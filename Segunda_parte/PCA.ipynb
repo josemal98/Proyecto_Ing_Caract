{
 "cells": [
  {
   "cell_type": "markdown",
   "metadata": {},
   "source": [
    "# PCA: Análisis de componentes principales"
   ]
  },
  {
   "cell_type": "markdown",
   "metadata": {},
   "source": [
    "## Librerias"
   ]
  },
  {
   "cell_type": "code",
   "execution_count": 174,
   "metadata": {},
   "outputs": [],
   "source": [
    "import pandas as pd\n",
    "import matplotlib.pyplot as plt\n",
    "from sklearn.decomposition import PCA\n",
    "from sklearn.preprocessing import StandardScaler"
   ]
  },
  {
   "cell_type": "markdown",
   "metadata": {},
   "source": [
    "## SIAP"
   ]
  },
  {
   "cell_type": "markdown",
   "metadata": {},
   "source": [
    "### Lectura y visualización de datos"
   ]
  },
  {
   "cell_type": "code",
   "execution_count": 132,
   "metadata": {},
   "outputs": [],
   "source": [
    "df_pca = pd.read_parquet('../Tidy/SIAP.parquet')"
   ]
  },
  {
   "cell_type": "code",
   "execution_count": 133,
   "metadata": {},
   "outputs": [
    {
     "data": {
      "text/html": [
       "<div>\n",
       "<style scoped>\n",
       "    .dataframe tbody tr th:only-of-type {\n",
       "        vertical-align: middle;\n",
       "    }\n",
       "\n",
       "    .dataframe tbody tr th {\n",
       "        vertical-align: top;\n",
       "    }\n",
       "\n",
       "    .dataframe thead th {\n",
       "        text-align: right;\n",
       "    }\n",
       "</style>\n",
       "<table border=\"1\" class=\"dataframe\">\n",
       "  <thead>\n",
       "    <tr style=\"text-align: right;\">\n",
       "      <th></th>\n",
       "      <th>Entidad</th>\n",
       "      <th>Municipio</th>\n",
       "      <th>Superficie Sembrada</th>\n",
       "      <th>Superficie Cosechada</th>\n",
       "      <th>Superficie Siniestrada</th>\n",
       "      <th>Produccion</th>\n",
       "      <th>Rendimiento</th>\n",
       "      <th>Anio</th>\n",
       "      <th>Mes</th>\n",
       "      <th>Cultivo</th>\n",
       "    </tr>\n",
       "  </thead>\n",
       "  <tbody>\n",
       "    <tr>\n",
       "      <th>756011</th>\n",
       "      <td>Oaxaca</td>\n",
       "      <td>Villa de Tututepec de Melchor Ocampo</td>\n",
       "      <td>44.50</td>\n",
       "      <td>44.50</td>\n",
       "      <td>0.0</td>\n",
       "      <td>1,027.95</td>\n",
       "      <td>23.10</td>\n",
       "      <td>2020</td>\n",
       "      <td>Diciembre</td>\n",
       "      <td>Sandía</td>\n",
       "    </tr>\n",
       "    <tr>\n",
       "      <th>958452</th>\n",
       "      <td>Jalisco</td>\n",
       "      <td>Gómez Farías</td>\n",
       "      <td>35.00</td>\n",
       "      <td>35.00</td>\n",
       "      <td>0.0</td>\n",
       "      <td>756.95</td>\n",
       "      <td>21.63</td>\n",
       "      <td>2018</td>\n",
       "      <td>Enero</td>\n",
       "      <td>Alfalfa</td>\n",
       "    </tr>\n",
       "    <tr>\n",
       "      <th>613142</th>\n",
       "      <td>Sonora</td>\n",
       "      <td>Guaymas</td>\n",
       "      <td>220.00</td>\n",
       "      <td>98.00</td>\n",
       "      <td>0.0</td>\n",
       "      <td>3,309.00</td>\n",
       "      <td>33.77</td>\n",
       "      <td>2020</td>\n",
       "      <td>Abril</td>\n",
       "      <td>Tomate rojo (jitomate)</td>\n",
       "    </tr>\n",
       "    <tr>\n",
       "      <th>430808</th>\n",
       "      <td>Ciudad de México</td>\n",
       "      <td>Tlalpan</td>\n",
       "      <td>15.00</td>\n",
       "      <td>0.00</td>\n",
       "      <td>0.0</td>\n",
       "      <td>0.00</td>\n",
       "      <td>0</td>\n",
       "      <td>2021</td>\n",
       "      <td>Junio</td>\n",
       "      <td>Calabacita</td>\n",
       "    </tr>\n",
       "    <tr>\n",
       "      <th>521421</th>\n",
       "      <td>Jalisco</td>\n",
       "      <td>Chapala</td>\n",
       "      <td>30.50</td>\n",
       "      <td>30.50</td>\n",
       "      <td>0.0</td>\n",
       "      <td>725.90</td>\n",
       "      <td>23.80</td>\n",
       "      <td>2021</td>\n",
       "      <td>Octubre</td>\n",
       "      <td>Tomate rojo (jitomate)</td>\n",
       "    </tr>\n",
       "    <tr>\n",
       "      <th>543134</th>\n",
       "      <td>Coahuila</td>\n",
       "      <td>Cuatro Ciénegas</td>\n",
       "      <td>27.50</td>\n",
       "      <td>27.50</td>\n",
       "      <td>0.0</td>\n",
       "      <td>259.88</td>\n",
       "      <td>9.45</td>\n",
       "      <td>2021</td>\n",
       "      <td>Noviembre</td>\n",
       "      <td>Uva</td>\n",
       "    </tr>\n",
       "    <tr>\n",
       "      <th>639195</th>\n",
       "      <td>Colima</td>\n",
       "      <td>Cuauhtémoc</td>\n",
       "      <td>21.00</td>\n",
       "      <td>21.00</td>\n",
       "      <td>0.0</td>\n",
       "      <td>109.00</td>\n",
       "      <td>5.19</td>\n",
       "      <td>2020</td>\n",
       "      <td>Junio</td>\n",
       "      <td>Maíz grano</td>\n",
       "    </tr>\n",
       "    <tr>\n",
       "      <th>240790</th>\n",
       "      <td>Sonora</td>\n",
       "      <td>Magdalena</td>\n",
       "      <td>122.00</td>\n",
       "      <td>122.00</td>\n",
       "      <td>0.0</td>\n",
       "      <td>2,890.00</td>\n",
       "      <td>23.69</td>\n",
       "      <td>2022</td>\n",
       "      <td>Julio</td>\n",
       "      <td>Avena forrajera en verde</td>\n",
       "    </tr>\n",
       "    <tr>\n",
       "      <th>478536</th>\n",
       "      <td>Quintana Roo</td>\n",
       "      <td>Bacalar</td>\n",
       "      <td>140.00</td>\n",
       "      <td>139.00</td>\n",
       "      <td>0.0</td>\n",
       "      <td>896.75</td>\n",
       "      <td>6.45</td>\n",
       "      <td>2021</td>\n",
       "      <td>Agosto</td>\n",
       "      <td>Naranja</td>\n",
       "    </tr>\n",
       "    <tr>\n",
       "      <th>515641</th>\n",
       "      <td>Oaxaca</td>\n",
       "      <td>San José Estancia Grande</td>\n",
       "      <td>263.00</td>\n",
       "      <td>0.00</td>\n",
       "      <td>0.0</td>\n",
       "      <td>0.00</td>\n",
       "      <td>0</td>\n",
       "      <td>2021</td>\n",
       "      <td>Octubre</td>\n",
       "      <td>Maíz grano</td>\n",
       "    </tr>\n",
       "  </tbody>\n",
       "</table>\n",
       "</div>"
      ],
      "text/plain": [
       "                 Entidad                             Municipio  \\\n",
       "756011            Oaxaca  Villa de Tututepec de Melchor Ocampo   \n",
       "958452           Jalisco                          Gómez Farías   \n",
       "613142            Sonora                               Guaymas   \n",
       "430808  Ciudad de México                               Tlalpan   \n",
       "521421           Jalisco                               Chapala   \n",
       "543134          Coahuila                       Cuatro Ciénegas   \n",
       "639195            Colima                            Cuauhtémoc   \n",
       "240790            Sonora                             Magdalena   \n",
       "478536      Quintana Roo                               Bacalar   \n",
       "515641            Oaxaca              San José Estancia Grande   \n",
       "\n",
       "       Superficie Sembrada Superficie Cosechada  Superficie Siniestrada  \\\n",
       "756011               44.50                44.50                     0.0   \n",
       "958452               35.00                35.00                     0.0   \n",
       "613142              220.00                98.00                     0.0   \n",
       "430808               15.00                 0.00                     0.0   \n",
       "521421               30.50                30.50                     0.0   \n",
       "543134               27.50                27.50                     0.0   \n",
       "639195               21.00                21.00                     0.0   \n",
       "240790              122.00               122.00                     0.0   \n",
       "478536              140.00               139.00                     0.0   \n",
       "515641              263.00                 0.00                     0.0   \n",
       "\n",
       "       Produccion Rendimiento  Anio        Mes                   Cultivo  \n",
       "756011   1,027.95       23.10  2020  Diciembre                    Sandía  \n",
       "958452     756.95       21.63  2018      Enero                   Alfalfa  \n",
       "613142   3,309.00       33.77  2020      Abril    Tomate rojo (jitomate)  \n",
       "430808       0.00           0  2021      Junio                Calabacita  \n",
       "521421     725.90       23.80  2021    Octubre    Tomate rojo (jitomate)  \n",
       "543134     259.88        9.45  2021  Noviembre                       Uva  \n",
       "639195     109.00        5.19  2020      Junio                Maíz grano  \n",
       "240790   2,890.00       23.69  2022      Julio  Avena forrajera en verde  \n",
       "478536     896.75        6.45  2021     Agosto                   Naranja  \n",
       "515641       0.00           0  2021    Octubre                Maíz grano  "
      ]
     },
     "execution_count": 133,
     "metadata": {},
     "output_type": "execute_result"
    }
   ],
   "source": [
    "df_pca.sample(10)"
   ]
  },
  {
   "cell_type": "code",
   "execution_count": 134,
   "metadata": {},
   "outputs": [
    {
     "data": {
      "text/plain": [
       "Entidad                   0\n",
       "Municipio                 0\n",
       "Superficie Sembrada       0\n",
       "Superficie Cosechada      0\n",
       "Superficie Siniestrada    0\n",
       "Produccion                0\n",
       "Rendimiento               0\n",
       "Anio                      0\n",
       "Mes                       0\n",
       "Cultivo                   0\n",
       "dtype: int64"
      ]
     },
     "execution_count": 134,
     "metadata": {},
     "output_type": "execute_result"
    }
   ],
   "source": [
    "missing_values = df_pca.isnull().sum()\n",
    "missing_values"
   ]
  },
  {
   "cell_type": "markdown",
   "metadata": {},
   "source": [
    "### Modificación de tipos de dato"
   ]
  },
  {
   "cell_type": "code",
   "execution_count": 135,
   "metadata": {},
   "outputs": [
    {
     "data": {
      "text/plain": [
       "Entidad                    object\n",
       "Municipio                  object\n",
       "Superficie Sembrada        object\n",
       "Superficie Cosechada       object\n",
       "Superficie Siniestrada    float64\n",
       "Produccion                 object\n",
       "Rendimiento                object\n",
       "Anio                        int64\n",
       "Mes                        object\n",
       "Cultivo                    object\n",
       "dtype: object"
      ]
     },
     "execution_count": 135,
     "metadata": {},
     "output_type": "execute_result"
    }
   ],
   "source": [
    "df_pca.dtypes"
   ]
  },
  {
   "cell_type": "markdown",
   "metadata": {},
   "source": [
    "La primera observacion que podemos hacer es que las columnas que se suponen son numerables son de tipo objeto. Nuestro proposito es aplicar a estos datos el metodo de reducción de características para visualización llamado \"Análisis de componentes principales\" o \"PCA\" el cual utiliza datos de tipo discretos por lo que nuestro proposito es convertir nuestro dataframe a tipo discreto, empezaremos con nuestras columnas que deberian ser flotantes pero son tipo objeto: Superficie Sembrada, Superficie Cosechada, Superficie Siniestrada, Produccion y Rendimiento."
   ]
  },
  {
   "cell_type": "code",
   "execution_count": 136,
   "metadata": {},
   "outputs": [],
   "source": [
    "# Lista de variables a convertir\n",
    "obj_to_float_var = ['Superficie Sembrada', 'Superficie Cosechada', 'Produccion', 'Rendimiento']\n",
    "# Eliminación de ',' character y conversión a flotante\n",
    "for var in obj_to_float_var:\n",
    "    df_pca[var] = df_pca[var].str.replace(',','').astype('float')"
   ]
  },
  {
   "cell_type": "code",
   "execution_count": 138,
   "metadata": {},
   "outputs": [
    {
     "data": {
      "text/plain": [
       "Entidad                    object\n",
       "Municipio                  object\n",
       "Superficie Sembrada       float64\n",
       "Superficie Cosechada      float64\n",
       "Superficie Siniestrada    float64\n",
       "Produccion                float64\n",
       "Rendimiento               float64\n",
       "Anio                        int64\n",
       "Mes                        object\n",
       "Cultivo                    object\n",
       "dtype: object"
      ]
     },
     "execution_count": 138,
     "metadata": {},
     "output_type": "execute_result"
    }
   ],
   "source": [
    "df_pca.dtypes"
   ]
  },
  {
   "cell_type": "markdown",
   "metadata": {},
   "source": [
    "### PCA"
   ]
  },
  {
   "cell_type": "code",
   "execution_count": 119,
   "metadata": {},
   "outputs": [
    {
     "name": "stdout",
     "output_type": "stream",
     "text": [
      "                 PC1         PC2\n",
      "0       -7369.034530 -636.683476\n",
      "1       -7369.133650 -641.024137\n",
      "2       -7367.482507 -568.717414\n",
      "3       -7368.935410 -632.342816\n",
      "4       -7367.012479 -548.134002\n",
      "...              ...         ...\n",
      "1154769 -7258.765062 -630.241314\n",
      "1154770 -7270.836136 -632.655491\n",
      "1154771 -7365.051624 -642.405839\n",
      "1154772 -7345.978051 -640.208210\n",
      "1154773 -7348.078121 -640.147661\n",
      "\n",
      "[1154774 rows x 2 columns]\n",
      "Varianza explicada por cada componente principal:\n",
      "[0.99492654 0.00443579]\n"
     ]
    }
   ],
   "source": [
    "# Seleccionar solo las columnas de interés\n",
    "selected_columns = ['Superficie Sembrada', 'Superficie Cosechada', 'Superficie Siniestrada', 'Produccion', 'Rendimiento']\n",
    "df_selected = df_pca[selected_columns]\n",
    "\n",
    "# Crear un objeto PCA y ajustarlo a los datos\n",
    "n_components = 2\n",
    "pca = PCA(n_components=n_components)\n",
    "\n",
    "pca.fit(df_selected)\n",
    "\n",
    "# Obtener las componentes principales y la varianza explicada\n",
    "principal_components = pca.transform(df_selected)\n",
    "explained_variance = pca.explained_variance_ratio_\n",
    "\n",
    "# Crear un nuevo DataFrame con las componentes principales\n",
    "columns = [f'PC{i+1}' for i in range(principal_components.shape[1])]\n",
    "pca_df = pd.DataFrame(data=principal_components, columns=columns)\n",
    "\n",
    "# Imprimir el DataFrame con las componentes principales\n",
    "print(pca_df)\n",
    "\n",
    "# Imprimir la varianza explicada por cada componente principal\n",
    "print(\"Varianza explicada por cada componente principal:\")\n",
    "print(explained_variance)"
   ]
  },
  {
   "cell_type": "markdown",
   "metadata": {},
   "source": [
    "Uniremos nuestros dataframes para tenerlo todo en uno y graficar en base a este. Primero validemos que tengan el mismo tamaño para despues proceder a realizar un merge en base al index de estos dos dataframes."
   ]
  },
  {
   "cell_type": "code",
   "execution_count": 122,
   "metadata": {},
   "outputs": [
    {
     "data": {
      "text/plain": [
       "(1154774, 2)"
      ]
     },
     "execution_count": 122,
     "metadata": {},
     "output_type": "execute_result"
    }
   ],
   "source": [
    "pca_df.shape"
   ]
  },
  {
   "cell_type": "code",
   "execution_count": 120,
   "metadata": {},
   "outputs": [
    {
     "data": {
      "text/plain": [
       "(1154774, 10)"
      ]
     },
     "execution_count": 120,
     "metadata": {},
     "output_type": "execute_result"
    }
   ],
   "source": [
    "df_pca.shape"
   ]
  },
  {
   "cell_type": "code",
   "execution_count": 124,
   "metadata": {},
   "outputs": [],
   "source": [
    "merged_df = pd.merge(df_pca, pca_df, left_index=True, right_index=True)\n"
   ]
  },
  {
   "cell_type": "code",
   "execution_count": 125,
   "metadata": {},
   "outputs": [
    {
     "data": {
      "text/html": [
       "<div>\n",
       "<style scoped>\n",
       "    .dataframe tbody tr th:only-of-type {\n",
       "        vertical-align: middle;\n",
       "    }\n",
       "\n",
       "    .dataframe tbody tr th {\n",
       "        vertical-align: top;\n",
       "    }\n",
       "\n",
       "    .dataframe thead th {\n",
       "        text-align: right;\n",
       "    }\n",
       "</style>\n",
       "<table border=\"1\" class=\"dataframe\">\n",
       "  <thead>\n",
       "    <tr style=\"text-align: right;\">\n",
       "      <th></th>\n",
       "      <th>Entidad</th>\n",
       "      <th>Municipio</th>\n",
       "      <th>Superficie Sembrada</th>\n",
       "      <th>Superficie Cosechada</th>\n",
       "      <th>Superficie Siniestrada</th>\n",
       "      <th>Produccion</th>\n",
       "      <th>Rendimiento</th>\n",
       "      <th>Anio</th>\n",
       "      <th>Mes</th>\n",
       "      <th>Cultivo</th>\n",
       "      <th>PC1</th>\n",
       "      <th>PC2</th>\n",
       "    </tr>\n",
       "  </thead>\n",
       "  <tbody>\n",
       "    <tr>\n",
       "      <th>0</th>\n",
       "      <td>Aguascalientes</td>\n",
       "      <td>Aguascalientes</td>\n",
       "      <td>8.00</td>\n",
       "      <td>0.0</td>\n",
       "      <td>0.0</td>\n",
       "      <td>0.0</td>\n",
       "      <td>0.00</td>\n",
       "      <td>2023</td>\n",
       "      <td>1</td>\n",
       "      <td>Agave</td>\n",
       "      <td>-7369.034530</td>\n",
       "      <td>-636.683476</td>\n",
       "    </tr>\n",
       "    <tr>\n",
       "      <th>1</th>\n",
       "      <td>Baja California Sur</td>\n",
       "      <td>La Paz</td>\n",
       "      <td>3.00</td>\n",
       "      <td>0.0</td>\n",
       "      <td>0.0</td>\n",
       "      <td>0.0</td>\n",
       "      <td>0.00</td>\n",
       "      <td>2023</td>\n",
       "      <td>1</td>\n",
       "      <td>Agave</td>\n",
       "      <td>-7369.133650</td>\n",
       "      <td>-641.024137</td>\n",
       "    </tr>\n",
       "    <tr>\n",
       "      <th>2</th>\n",
       "      <td>Colima</td>\n",
       "      <td>Manzanillo</td>\n",
       "      <td>86.29</td>\n",
       "      <td>0.0</td>\n",
       "      <td>0.0</td>\n",
       "      <td>0.0</td>\n",
       "      <td>0.00</td>\n",
       "      <td>2023</td>\n",
       "      <td>1</td>\n",
       "      <td>Agave</td>\n",
       "      <td>-7367.482507</td>\n",
       "      <td>-568.717414</td>\n",
       "    </tr>\n",
       "    <tr>\n",
       "      <th>3</th>\n",
       "      <td>Durango</td>\n",
       "      <td>Durango</td>\n",
       "      <td>13.00</td>\n",
       "      <td>0.0</td>\n",
       "      <td>0.0</td>\n",
       "      <td>0.0</td>\n",
       "      <td>0.00</td>\n",
       "      <td>2023</td>\n",
       "      <td>1</td>\n",
       "      <td>Agave</td>\n",
       "      <td>-7368.935410</td>\n",
       "      <td>-632.342816</td>\n",
       "    </tr>\n",
       "    <tr>\n",
       "      <th>4</th>\n",
       "      <td>Durango</td>\n",
       "      <td>Mezquital</td>\n",
       "      <td>110.00</td>\n",
       "      <td>0.0</td>\n",
       "      <td>0.0</td>\n",
       "      <td>0.0</td>\n",
       "      <td>0.00</td>\n",
       "      <td>2023</td>\n",
       "      <td>1</td>\n",
       "      <td>Agave</td>\n",
       "      <td>-7367.012479</td>\n",
       "      <td>-548.134002</td>\n",
       "    </tr>\n",
       "    <tr>\n",
       "      <th>...</th>\n",
       "      <td>...</td>\n",
       "      <td>...</td>\n",
       "      <td>...</td>\n",
       "      <td>...</td>\n",
       "      <td>...</td>\n",
       "      <td>...</td>\n",
       "      <td>...</td>\n",
       "      <td>...</td>\n",
       "      <td>...</td>\n",
       "      <td>...</td>\n",
       "      <td>...</td>\n",
       "      <td>...</td>\n",
       "    </tr>\n",
       "    <tr>\n",
       "      <th>1154769</th>\n",
       "      <td>Puebla</td>\n",
       "      <td>Domingo Arenas</td>\n",
       "      <td>12.00</td>\n",
       "      <td>12.0</td>\n",
       "      <td>0.0</td>\n",
       "      <td>110.0</td>\n",
       "      <td>9.17</td>\n",
       "      <td>2018</td>\n",
       "      <td>12</td>\n",
       "      <td>Zarzamora</td>\n",
       "      <td>-7258.765062</td>\n",
       "      <td>-630.241314</td>\n",
       "    </tr>\n",
       "    <tr>\n",
       "      <th>1154770</th>\n",
       "      <td>Puebla</td>\n",
       "      <td>Huejotzingo</td>\n",
       "      <td>10.00</td>\n",
       "      <td>10.0</td>\n",
       "      <td>0.0</td>\n",
       "      <td>98.0</td>\n",
       "      <td>9.80</td>\n",
       "      <td>2018</td>\n",
       "      <td>12</td>\n",
       "      <td>Zarzamora</td>\n",
       "      <td>-7270.836136</td>\n",
       "      <td>-632.655491</td>\n",
       "    </tr>\n",
       "    <tr>\n",
       "      <th>1154771</th>\n",
       "      <td>Puebla</td>\n",
       "      <td>Tochimilco</td>\n",
       "      <td>1.00</td>\n",
       "      <td>1.0</td>\n",
       "      <td>0.0</td>\n",
       "      <td>4.1</td>\n",
       "      <td>4.10</td>\n",
       "      <td>2018</td>\n",
       "      <td>12</td>\n",
       "      <td>Zarzamora</td>\n",
       "      <td>-7365.051624</td>\n",
       "      <td>-642.405839</td>\n",
       "    </tr>\n",
       "    <tr>\n",
       "      <th>1154772</th>\n",
       "      <td>Querétaro</td>\n",
       "      <td>San Juan del Río</td>\n",
       "      <td>3.00</td>\n",
       "      <td>3.0</td>\n",
       "      <td>0.0</td>\n",
       "      <td>23.1</td>\n",
       "      <td>7.70</td>\n",
       "      <td>2018</td>\n",
       "      <td>12</td>\n",
       "      <td>Zarzamora</td>\n",
       "      <td>-7345.978051</td>\n",
       "      <td>-640.208210</td>\n",
       "    </tr>\n",
       "    <tr>\n",
       "      <th>1154773</th>\n",
       "      <td>Veracruz</td>\n",
       "      <td>Coatepec</td>\n",
       "      <td>3.00</td>\n",
       "      <td>3.0</td>\n",
       "      <td>0.0</td>\n",
       "      <td>21.0</td>\n",
       "      <td>7.00</td>\n",
       "      <td>2018</td>\n",
       "      <td>12</td>\n",
       "      <td>Zarzamora</td>\n",
       "      <td>-7348.078121</td>\n",
       "      <td>-640.147661</td>\n",
       "    </tr>\n",
       "  </tbody>\n",
       "</table>\n",
       "<p>1154774 rows × 12 columns</p>\n",
       "</div>"
      ],
      "text/plain": [
       "                     Entidad         Municipio  Superficie Sembrada  \\\n",
       "0             Aguascalientes    Aguascalientes                 8.00   \n",
       "1        Baja California Sur            La Paz                 3.00   \n",
       "2                     Colima        Manzanillo                86.29   \n",
       "3                    Durango           Durango                13.00   \n",
       "4                    Durango         Mezquital               110.00   \n",
       "...                      ...               ...                  ...   \n",
       "1154769               Puebla    Domingo Arenas                12.00   \n",
       "1154770               Puebla       Huejotzingo                10.00   \n",
       "1154771               Puebla        Tochimilco                 1.00   \n",
       "1154772            Querétaro  San Juan del Río                 3.00   \n",
       "1154773             Veracruz          Coatepec                 3.00   \n",
       "\n",
       "         Superficie Cosechada  Superficie Siniestrada  Produccion  \\\n",
       "0                         0.0                     0.0         0.0   \n",
       "1                         0.0                     0.0         0.0   \n",
       "2                         0.0                     0.0         0.0   \n",
       "3                         0.0                     0.0         0.0   \n",
       "4                         0.0                     0.0         0.0   \n",
       "...                       ...                     ...         ...   \n",
       "1154769                  12.0                     0.0       110.0   \n",
       "1154770                  10.0                     0.0        98.0   \n",
       "1154771                   1.0                     0.0         4.1   \n",
       "1154772                   3.0                     0.0        23.1   \n",
       "1154773                   3.0                     0.0        21.0   \n",
       "\n",
       "         Rendimiento  Anio  Mes    Cultivo          PC1         PC2  \n",
       "0               0.00  2023    1      Agave -7369.034530 -636.683476  \n",
       "1               0.00  2023    1      Agave -7369.133650 -641.024137  \n",
       "2               0.00  2023    1      Agave -7367.482507 -568.717414  \n",
       "3               0.00  2023    1      Agave -7368.935410 -632.342816  \n",
       "4               0.00  2023    1      Agave -7367.012479 -548.134002  \n",
       "...              ...   ...  ...        ...          ...         ...  \n",
       "1154769         9.17  2018   12  Zarzamora -7258.765062 -630.241314  \n",
       "1154770         9.80  2018   12  Zarzamora -7270.836136 -632.655491  \n",
       "1154771         4.10  2018   12  Zarzamora -7365.051624 -642.405839  \n",
       "1154772         7.70  2018   12  Zarzamora -7345.978051 -640.208210  \n",
       "1154773         7.00  2018   12  Zarzamora -7348.078121 -640.147661  \n",
       "\n",
       "[1154774 rows x 12 columns]"
      ]
     },
     "execution_count": 125,
     "metadata": {},
     "output_type": "execute_result"
    }
   ],
   "source": [
    "merged_df"
   ]
  },
  {
   "cell_type": "markdown",
   "metadata": {},
   "source": [
    "Sustituiremos los valores de la columna *Cultivo* por el ID que se encuentra en el catalogo de cultivos"
   ]
  },
  {
   "cell_type": "code",
   "execution_count": 130,
   "metadata": {},
   "outputs": [],
   "source": [
    "cat_cultivo = pd.read_csv('../Catalogos_API_SIAP/Cultivo.csv').set_index('Name')['ID']\n",
    "merged_df['Cultivo'] = merged_df['Cultivo'].map(cat_cultivo)"
   ]
  },
  {
   "cell_type": "markdown",
   "metadata": {},
   "source": [
    "### Visualizacion de los principales componentes"
   ]
  },
  {
   "cell_type": "code",
   "execution_count": 131,
   "metadata": {},
   "outputs": [
    {
     "data": {
      "image/png": "[encoded data removed]",
      "text/plain": [
       "<Figure size 800x600 with 2 Axes>"
      ]
     },
     "metadata": {},
     "output_type": "display_data"
    }
   ],
   "source": [
    "# Supongamos que tus componentes principales se llaman \"PC1\" y \"PC2\"\n",
    "plt.figure(figsize=(8, 6))\n",
    "plt.scatter(merged_df['PC1'], merged_df['PC2'], c=merged_df['Cultivo'], cmap='viridis')\n",
    "plt.xlabel('Componente Principal 1')\n",
    "plt.ylabel('Componente Principal 2')\n",
    "plt.title('Gráfico de dispersión de PCA')\n",
    "\n",
    "plt.colorbar(label='Cultivo')\n",
    "plt.show()\n"
   ]
  },
  {
   "cell_type": "markdown",
   "metadata": {},
   "source": [
    "### Conclusiones"
   ]
  },
  {
   "cell_type": "markdown",
   "metadata": {},
   "source": [
    "Se procesaron los datos previamente descargados y preprocesados en formato Tidy del Servicio de Información Agroalimentaria y Pesquera (SIAP) para facilitar la visualización mediante la aplicación de la reducción de dimensionalidad con el Análisis de Componentes Principales (PCA).\n",
    "\n",
    "<br>\n",
    "\n",
    "#### Procedimiento\n",
    "\n",
    "1. **Descarga del archivo:** Se descargó el archivo `/Tidy/SIAP.parquet`.\n",
    "2. **Modificación de tipo de variables:** Se identificó que las columnas *Superficie Sembrada*, *Superficie Cosechada*, *Superficie Siniestrada*, *Producción* y *Rendimiento* tenían un tipo de dato objeto, por lo que se ajustaron a tipo flotante.\n",
    "3. **PCA:** Se aplicó el método PCA a las columnas mencionadas para calcular dos componentes principales. Este proceso generó un nuevo DataFrame con estas dos columnas y la varianza explicada por cada componente principal.\n",
    "4. **Unión de los datos:** Se realizó un merge del DataFrame original con el DataFrame de los componentes principales.\n",
    "5. **Visualización de los componentes principales:** Se representaron gráficamente los componentes principales, utilizando la columna *Cultivo* como escala de color.\n",
    "\n",
    "<br>\n",
    "\n",
    "#### Resultados\n",
    "\n",
    "La aplicación del PCA resultó en la obtención de dos componentes principales, que representan combinaciones lineales de las variables originales. Además, se obtuvo la varianza explicada por cada componente principal:\n",
    "\n",
    "<div align=\"center\">\n",
    "\n",
    "| Componente Principal | Varianza    |\n",
    "|----------------------|-------------|\n",
    "| PC1                  | 0.99492654  |\n",
    "| PC2                  | 0.00443579  |\n",
    "\n",
    "</div>\n",
    "\n",
    "##### Interpretación de los Componentes Principales:\n",
    "\n",
    "- **Primer Componente Principal (PC1):** Explica la mayor parte de la variabilidad en los datos, con una varianza cercana al 99.5%. Se presume que este componente puede estar relacionado con las direcciones principales de variabilidad en las variables originales.\n",
    "\n",
    "- **Segundo Componente Principal (PC2):** Explica una cantidad significativamente menor de la variabilidad total, alrededor del 0.44%. PC2 captura patrones secundarios o menos dominantes en los datos. Aunque su contribución es baja en comparación con PC1, aún podría contener información relevante.\n",
    "\n",
    "La visualización gráfica revela patrones, aunque su interpretación requeriría la aplicación de diversas técnicas y la consulta de expertos en el tema.\n"
   ]
  },
  {
   "cell_type": "markdown",
   "metadata": {},
   "source": [
    "## SNIIM"
   ]
  },
  {
   "cell_type": "markdown",
   "metadata": {},
   "source": [
    "### Lectura de datos"
   ]
  },
  {
   "cell_type": "code",
   "execution_count": 186,
   "metadata": {},
   "outputs": [],
   "source": [
    "df_sniim = pd.read_parquet('../Tidy/SNIIM.parquet')"
   ]
  },
  {
   "cell_type": "code",
   "execution_count": 187,
   "metadata": {},
   "outputs": [
    {
     "data": {
      "text/plain": [
       "Fecha               0\n",
       "Presentacion        0\n",
       "Origen              0\n",
       "Destino             0\n",
       "Precio Minimo       0\n",
       "Precio Maximo       0\n",
       "Precio Frecuente    0\n",
       "Observacion         0\n",
       "Cultivo             0\n",
       "dtype: int64"
      ]
     },
     "execution_count": 187,
     "metadata": {},
     "output_type": "execute_result"
    }
   ],
   "source": [
    "missing_values = df_sniim.isnull().sum()\n",
    "missing_values"
   ]
  },
  {
   "cell_type": "code",
   "execution_count": 188,
   "metadata": {},
   "outputs": [
    {
     "data": {
      "text/html": [
       "<div>\n",
       "<style scoped>\n",
       "    .dataframe tbody tr th:only-of-type {\n",
       "        vertical-align: middle;\n",
       "    }\n",
       "\n",
       "    .dataframe tbody tr th {\n",
       "        vertical-align: top;\n",
       "    }\n",
       "\n",
       "    .dataframe thead th {\n",
       "        text-align: right;\n",
       "    }\n",
       "</style>\n",
       "<table border=\"1\" class=\"dataframe\">\n",
       "  <thead>\n",
       "    <tr style=\"text-align: right;\">\n",
       "      <th></th>\n",
       "      <th>Fecha</th>\n",
       "      <th>Presentacion</th>\n",
       "      <th>Origen</th>\n",
       "      <th>Destino</th>\n",
       "      <th>Precio Minimo</th>\n",
       "      <th>Precio Maximo</th>\n",
       "      <th>Precio Frecuente</th>\n",
       "      <th>Observacion</th>\n",
       "      <th>Cultivo</th>\n",
       "    </tr>\n",
       "  </thead>\n",
       "  <tbody>\n",
       "    <tr>\n",
       "      <th>502123</th>\n",
       "      <td>10/03/2023</td>\n",
       "      <td>Kilogramo</td>\n",
       "      <td>Michoacán</td>\n",
       "      <td>Michoacán: Mercado de Abasto de Morelia</td>\n",
       "      <td>30.00</td>\n",
       "      <td>35.00</td>\n",
       "      <td>35.0</td>\n",
       "      <td>nan</td>\n",
       "      <td>mamey_primera</td>\n",
       "    </tr>\n",
       "    <tr>\n",
       "      <th>300895</th>\n",
       "      <td>22/04/2022</td>\n",
       "      <td>Docena</td>\n",
       "      <td>Puebla</td>\n",
       "      <td>México: Central de Abasto de Ecatepec</td>\n",
       "      <td>17.00</td>\n",
       "      <td>20.00</td>\n",
       "      <td>17.0</td>\n",
       "      <td>nan</td>\n",
       "      <td>coliflor grande_primera</td>\n",
       "    </tr>\n",
       "    <tr>\n",
       "      <th>241031</th>\n",
       "      <td>10/12/2019</td>\n",
       "      <td>Kilogramo</td>\n",
       "      <td>Zacatecas</td>\n",
       "      <td>Michoacán: Mercado de Abasto de Morelia</td>\n",
       "      <td>70.00</td>\n",
       "      <td>80.00</td>\n",
       "      <td>80.0</td>\n",
       "      <td>nan</td>\n",
       "      <td>chile puya seco_primera</td>\n",
       "    </tr>\n",
       "    <tr>\n",
       "      <th>878846</th>\n",
       "      <td>30/11/2018</td>\n",
       "      <td>Costal de 20 kg.</td>\n",
       "      <td>Zacatecas</td>\n",
       "      <td>Aguascalientes: Centro Comercial Agropecuario ...</td>\n",
       "      <td>4.75</td>\n",
       "      <td>5.25</td>\n",
       "      <td>5.0</td>\n",
       "      <td>nan</td>\n",
       "      <td>zanahoria leña_primera</td>\n",
       "    </tr>\n",
       "    <tr>\n",
       "      <th>604982</th>\n",
       "      <td>12/07/2018</td>\n",
       "      <td>Kilogramo</td>\n",
       "      <td>Tamaulipas</td>\n",
       "      <td>Tamaulipas: Módulo de Abasto de Tampico, Mader...</td>\n",
       "      <td>10.00</td>\n",
       "      <td>10.50</td>\n",
       "      <td>10.5</td>\n",
       "      <td>nan</td>\n",
       "      <td>naranja march grande_primera</td>\n",
       "    </tr>\n",
       "  </tbody>\n",
       "</table>\n",
       "</div>"
      ],
      "text/plain": [
       "             Fecha      Presentacion      Origen  \\\n",
       "502123  10/03/2023         Kilogramo   Michoacán   \n",
       "300895  22/04/2022            Docena      Puebla   \n",
       "241031  10/12/2019         Kilogramo   Zacatecas   \n",
       "878846  30/11/2018  Costal de 20 kg.   Zacatecas   \n",
       "604982  12/07/2018         Kilogramo  Tamaulipas   \n",
       "\n",
       "                                                  Destino  Precio Minimo  \\\n",
       "502123            Michoacán: Mercado de Abasto de Morelia          30.00   \n",
       "300895              México: Central de Abasto de Ecatepec          17.00   \n",
       "241031            Michoacán: Mercado de Abasto de Morelia          70.00   \n",
       "878846  Aguascalientes: Centro Comercial Agropecuario ...           4.75   \n",
       "604982  Tamaulipas: Módulo de Abasto de Tampico, Mader...          10.00   \n",
       "\n",
       "        Precio Maximo  Precio Frecuente Observacion  \\\n",
       "502123          35.00              35.0         nan   \n",
       "300895          20.00              17.0         nan   \n",
       "241031          80.00              80.0         nan   \n",
       "878846           5.25               5.0         nan   \n",
       "604982          10.50              10.5         nan   \n",
       "\n",
       "                             Cultivo  \n",
       "502123                 mamey_primera  \n",
       "300895       coliflor grande_primera  \n",
       "241031       chile puya seco_primera  \n",
       "878846        zanahoria leña_primera  \n",
       "604982  naranja march grande_primera  "
      ]
     },
     "execution_count": 188,
     "metadata": {},
     "output_type": "execute_result"
    }
   ],
   "source": [
    "df_sniim.sample(5)"
   ]
  },
  {
   "cell_type": "markdown",
   "metadata": {},
   "source": [
    "### Modificación de tipo de datos"
   ]
  },
  {
   "cell_type": "code",
   "execution_count": 189,
   "metadata": {},
   "outputs": [
    {
     "data": {
      "text/plain": [
       "Fecha                object\n",
       "Presentacion         object\n",
       "Origen               object\n",
       "Destino              object\n",
       "Precio Minimo       float64\n",
       "Precio Maximo       float64\n",
       "Precio Frecuente    float64\n",
       "Observacion          object\n",
       "Cultivo              object\n",
       "dtype: object"
      ]
     },
     "execution_count": 189,
     "metadata": {},
     "output_type": "execute_result"
    }
   ],
   "source": [
    "df_sniim.dtypes"
   ]
  },
  {
   "cell_type": "markdown",
   "metadata": {},
   "source": [
    "Podemos observar que nuestros datos SNIIM no necesitan cambios en los tipos de variables."
   ]
  },
  {
   "cell_type": "markdown",
   "metadata": {},
   "source": [
    "### PCA"
   ]
  },
  {
   "cell_type": "code",
   "execution_count": 190,
   "metadata": {},
   "outputs": [
    {
     "name": "stdout",
     "output_type": "stream",
     "text": [
      "              PC1       PC2\n",
      "0      -27.733442 -1.343012\n",
      "1      -27.733442 -1.343012\n",
      "2      -27.733442 -1.343012\n",
      "3      -27.733442 -1.343012\n",
      "4      -27.733442 -1.343012\n",
      "...           ...       ...\n",
      "900758  13.816208 -2.560737\n",
      "900759  13.816208 -2.560737\n",
      "900760  13.816208 -2.560737\n",
      "900761  13.816208 -2.560737\n",
      "900762  13.816208 -2.560737\n",
      "\n",
      "[900763 rows x 2 columns]\n",
      "Varianza explicada por cada componente principal:\n",
      "[0.98890202 0.00887424]\n"
     ]
    }
   ],
   "source": [
    "# Seleccionar solo las columnas de interés\n",
    "selected_columns = ['Precio Minimo','Precio Maximo', 'Precio Frecuente']\n",
    "df_selected = df_sniim[selected_columns]\n",
    "\n",
    "# Crear un objeto PCA y ajustarlo a los datos\n",
    "n_components = 2\n",
    "pca = PCA(n_components=n_components)\n",
    "\n",
    "pca.fit(df_selected)\n",
    "\n",
    "# Obtener las componentes principales y la varianza explicada\n",
    "principal_components = pca.transform(df_selected)\n",
    "explained_variance = pca.explained_variance_ratio_\n",
    "\n",
    "# Crear un nuevo DataFrame con las componentes principales\n",
    "columns = [f'PC{i+1}' for i in range(principal_components.shape[1])]\n",
    "pca_df = pd.DataFrame(data=principal_components, columns=columns)\n",
    "\n",
    "# Imprimir el DataFrame con las componentes principales\n",
    "print(pca_df)\n",
    "\n",
    "# Imprimir la varianza explicada por cada componente principal\n",
    "print(\"Varianza explicada por cada componente principal:\")\n",
    "print(explained_variance)"
   ]
  },
  {
   "cell_type": "markdown",
   "metadata": {},
   "source": [
    "### Unión de los datos"
   ]
  },
  {
   "cell_type": "code",
   "execution_count": 193,
   "metadata": {},
   "outputs": [
    {
     "name": "stdout",
     "output_type": "stream",
     "text": [
      "(900763, 2)\n",
      "(900763, 9)\n"
     ]
    }
   ],
   "source": [
    "print(pca_df.shape)\n",
    "print(df_sniim.shape)"
   ]
  },
  {
   "cell_type": "code",
   "execution_count": 191,
   "metadata": {},
   "outputs": [],
   "source": [
    "merged_df = pd.merge(df_sniim, pca_df, left_index=True, right_index=True)"
   ]
  },
  {
   "cell_type": "markdown",
   "metadata": {},
   "source": [
    "### Visualización de Componentes Principales"
   ]
  },
  {
   "cell_type": "code",
   "execution_count": 192,
   "metadata": {},
   "outputs": [
    {
     "data": {
      "image/png": "[encoded data removed]",
      "text/plain": [
       "<Figure size 800x600 with 1 Axes>"
      ]
     },
     "metadata": {},
     "output_type": "display_data"
    }
   ],
   "source": [
    "# Supongamos que tus componentes principales se llaman \"PC1\" y \"PC2\"\n",
    "plt.figure(figsize=(8, 6))\n",
    "plt.scatter(merged_df['PC1'], merged_df['PC2'])\n",
    "plt.xlabel('Componente Principal 1')\n",
    "plt.ylabel('Componente Principal 2')\n",
    "plt.title('Gráfico de dispersión de PCA')\n",
    "\n",
    "plt.show()"
   ]
  },
  {
   "cell_type": "markdown",
   "metadata": {},
   "source": [
    "### Conclusiones"
   ]
  },
  {
   "cell_type": "markdown",
   "metadata": {},
   "source": [
    "Se procesaron los datos previamente descargados y preprocesados en formato Tidy del Servicio de Información Agroalimentaria y Pesquera (SIAP) para facilitar la visualización mediante la aplicación de la reducción de dimensionalidad con el Análisis de Componentes Principales (PCA).\n",
    "\n",
    "### Procedimiento:\n",
    "\n",
    "1. **Descarga del archivo:** Se descargó el archivo `/Tidy/SNIIM.parquet`.\n",
    "2. **Modificación de tipo de variables:** Se identificó que las columnas *Precio Minimo*, *Precio Maximo*, *Precio Frecuente* tenían el tipo deseado, es decir, flotante.\n",
    "3. **PCA:** Se aplicó el método PCA a las columnas mencionadas para calcular dos componentes principales. Este proceso generó un nuevo DataFrame con estas dos columnas y la varianza aplicada por cada componente principal.\n",
    "4. **Unión de los datos:** Se realizó un merge del DataFrame original con el DataFrame de los componentes principales.\n",
    "5. **Visualización de los componentes principales:** Se representaron gráficamente los componentes principales.\n",
    "\n",
    "La aplicación del PCA resultó en la obtención de dos componentes principales, que representan combinaciones lineales de las variables originales. Además, se obtuvo la varianza explicada por cada componente principal:\n",
    "\n",
    "<div align=\"center\">\n",
    "\n",
    "| Componente Principal | Varianza    |\n",
    "|----------------------|-------------|\n",
    "| PC1                  | 0.98890202  |\n",
    "| PC2                  | 0.00887424  |\n",
    "\n",
    "</div>\n",
    "\n",
    "#### Interpretación de los Componentes Principales:\n",
    "\n",
    "- **Primer Componente Principal (PC1):** Explica la mayor parte de la variabilidad en los datos, con una varianza cercana al 98.9%. Se presume que este componente puede estar relacionado con las direcciones principales de variabilidad en las variables originales.\n",
    "\n",
    "- **Segundo Componente Principal (PC2):** Explica una cantidad significativamente menor de la variabilidad total, alrededor del 0.89%. PC2 captura patrones secundarios o menos dominantes en los datos. Aunque su contribución es baja en comparación con PC1, aún podría contener información relevante.\n",
    "\n",
    "La visualización gráfica revela patrones, aunque su interpretación requeriría la aplicación de diversas técnicas y la consulta de expertos en el tema.\n"
   ]
  },
  {
   "cell_type": "markdown",
   "metadata": {},
   "source": []
  }
 ],
 "metadata": {
  "kernelspec": {
   "display_name": "agricultura",
   "language": "python",
   "name": "python3"
  },
  "language_info": {
   "codemirror_mode": {
    "name": "ipython",
    "version": 3
   },
   "file_extension": ".py",
   "mimetype": "text/x-python",
   "name": "python",
   "nbconvert_exporter": "python",
   "pygments_lexer": "ipython3",
   "version": "3.11.5"
  }
 },
 "nbformat": 4,
 "nbformat_minor": 2
}
