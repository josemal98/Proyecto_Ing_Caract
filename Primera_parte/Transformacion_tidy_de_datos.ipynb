{
 "cells": [
  {
   "cell_type": "markdown",
   "metadata": {},
   "source": [
    "# Transformación de los datos "
   ]
  },
  {
   "cell_type": "code",
   "execution_count": 1,
   "metadata": {},
   "outputs": [],
   "source": [
    "# !pip install pyarrow"
   ]
  },
  {
   "cell_type": "code",
   "execution_count": 5,
   "metadata": {},
   "outputs": [],
   "source": [
    "import pandas as pd\n",
    "import os\n",
    "import warnings"
   ]
  },
  {
   "cell_type": "markdown",
   "metadata": {},
   "source": [
    "## Unión de los datos"
   ]
  },
  {
   "cell_type": "code",
   "execution_count": 6,
   "metadata": {},
   "outputs": [],
   "source": [
    "anio_arr = pd.read_csv('./catalogos_api/Anio_Agricola.csv').ID.to_list()\n",
    "cultivo_arr = pd.read_csv('./catalogos_api/Cultivo.csv').ID.to_list()\n",
    "mes_arr = pd.read_csv('./catalogos_api/Mes_Agricola.csv').ID.to_list()\n",
    "cultivo_arr.remove(0) # 0: Todos"
   ]
  },
  {
   "cell_type": "code",
   "execution_count": 7,
   "metadata": {},
   "outputs": [
    {
     "name": "stderr",
     "output_type": "stream",
     "text": [
      "C:\\Users\\vesna\\AppData\\Local\\Temp\\ipykernel_12924\\2729179447.py:9: FutureWarning: The behavior of DataFrame concatenation with empty or all-NA entries is deprecated. In a future version, this will no longer exclude empty or all-NA columns when determining the result dtypes. To retain the old behavior, exclude the relevant entries before the concat operation.\n",
      "  df_raw = pd.concat([df_raw, df_aux], axis=0)\n"
     ]
    }
   ],
   "source": [
    "# anio,mes,ciclo,cultivo, entidad, modalidad\n",
    "columnas = [\"Entidad\", \"Municipio\", \"Superficie Sembrada\", \"Superficie Cosechada\", \"Superficie Siniestrada\", \"Produccion\", \"Rendimiento\",\"Anio\", \"Mes\", \"Cultivo\"]\n",
    "df_raw = pd.DataFrame(columns=columnas)\n",
    "\n",
    "total = 0\n",
    "for anio in anio_arr:\n",
    "    for i in range(1,13):\n",
    "        df_aux = pd.read_csv(\"./raw/\"+str(anio)+\"/Avance_Agricola_\"+str(anio)+ \"_\" + str(i) + '.csv')\n",
    "        df_raw = pd.concat([df_raw, df_aux], axis=0)\n",
    "        total += df_aux.shape[0]\n",
    "\n",
    "df_raw['Superficie Siniestrada'] = pd.to_numeric(df_raw['Superficie Siniestrada'], errors='coerce')"
   ]
  },
  {
   "cell_type": "code",
   "execution_count": 8,
   "metadata": {},
   "outputs": [],
   "source": [
    "if not os.path.exists('raw/Avance_Agricola_Historico.parquet'):\n",
    "    name_csv = \"Avance_Agricola_Historico\"\n",
    "    ruta_completa = os.path.join(\"raw\",name_csv)\n",
    "    df_raw.to_parquet(ruta_completa + '.parquet', index=False)"
   ]
  },
  {
   "cell_type": "code",
   "execution_count": 9,
   "metadata": {},
   "outputs": [
    {
     "name": "stdout",
     "output_type": "stream",
     "text": [
      "Total de datos:  992213\n"
     ]
    }
   ],
   "source": [
    "print(\"Total de datos: \",total)"
   ]
  },
  {
   "cell_type": "markdown",
   "metadata": {},
   "source": [
    "## Decodificación de variables"
   ]
  },
  {
   "cell_type": "code",
   "execution_count": 10,
   "metadata": {},
   "outputs": [],
   "source": [
    "df = pd.read_parquet('./raw/Avance_Agricola_Historico.parquet')"
   ]
  },
  {
   "cell_type": "code",
   "execution_count": 11,
   "metadata": {},
   "outputs": [],
   "source": [
    "catalogo_cultivos = pd.read_csv('./catalogos_api/Cultivo.csv')\n",
    "catalogo_mes = pd.read_csv('./catalogos_api/Mes_Agricola.csv')\n",
    "\n",
    "catalogo_cultivos = catalogo_cultivos.set_index('ID')['Name'].to_dict()\n",
    "catalogo_mes = catalogo_mes.set_index('ID')['Name'].to_dict()\n",
    "\n",
    "df['Cultivo'] = df['Cultivo'].map(catalogo_cultivos)\n",
    "df['Mes'] = df['Mes'].map(catalogo_mes)\n"
   ]
  },
  {
   "cell_type": "code",
   "execution_count": 12,
   "metadata": {},
   "outputs": [],
   "source": [
    "df.to_parquet('tidy.parquet', index=False)"
   ]
  },
  {
   "cell_type": "code",
   "execution_count": 13,
   "metadata": {},
   "outputs": [
    {
     "data": {
      "text/html": [
       "<div>\n",
       "<style scoped>\n",
       "    .dataframe tbody tr th:only-of-type {\n",
       "        vertical-align: middle;\n",
       "    }\n",
       "\n",
       "    .dataframe tbody tr th {\n",
       "        vertical-align: top;\n",
       "    }\n",
       "\n",
       "    .dataframe thead th {\n",
       "        text-align: right;\n",
       "    }\n",
       "</style>\n",
       "<table border=\"1\" class=\"dataframe\">\n",
       "  <thead>\n",
       "    <tr style=\"text-align: right;\">\n",
       "      <th></th>\n",
       "      <th>Entidad</th>\n",
       "      <th>Municipio</th>\n",
       "      <th>Superficie Sembrada</th>\n",
       "      <th>Superficie Cosechada</th>\n",
       "      <th>Superficie Siniestrada</th>\n",
       "      <th>Produccion</th>\n",
       "      <th>Rendimiento</th>\n",
       "      <th>Anio</th>\n",
       "      <th>Mes</th>\n",
       "      <th>Cultivo</th>\n",
       "    </tr>\n",
       "  </thead>\n",
       "  <tbody>\n",
       "    <tr>\n",
       "      <th>0</th>\n",
       "      <td>Aguascalientes</td>\n",
       "      <td>Aguascalientes</td>\n",
       "      <td>8.00</td>\n",
       "      <td>0.00</td>\n",
       "      <td>0.0</td>\n",
       "      <td>0.00</td>\n",
       "      <td>0</td>\n",
       "      <td>2023</td>\n",
       "      <td>Enero</td>\n",
       "      <td>Agave</td>\n",
       "    </tr>\n",
       "    <tr>\n",
       "      <th>1</th>\n",
       "      <td>Baja California Sur</td>\n",
       "      <td>La Paz</td>\n",
       "      <td>3.00</td>\n",
       "      <td>0.00</td>\n",
       "      <td>0.0</td>\n",
       "      <td>0.00</td>\n",
       "      <td>0</td>\n",
       "      <td>2023</td>\n",
       "      <td>Enero</td>\n",
       "      <td>Agave</td>\n",
       "    </tr>\n",
       "    <tr>\n",
       "      <th>2</th>\n",
       "      <td>Colima</td>\n",
       "      <td>Manzanillo</td>\n",
       "      <td>86.29</td>\n",
       "      <td>0.00</td>\n",
       "      <td>0.0</td>\n",
       "      <td>0.00</td>\n",
       "      <td>0</td>\n",
       "      <td>2023</td>\n",
       "      <td>Enero</td>\n",
       "      <td>Agave</td>\n",
       "    </tr>\n",
       "    <tr>\n",
       "      <th>3</th>\n",
       "      <td>Durango</td>\n",
       "      <td>Durango</td>\n",
       "      <td>13.00</td>\n",
       "      <td>0.00</td>\n",
       "      <td>0.0</td>\n",
       "      <td>0.00</td>\n",
       "      <td>0</td>\n",
       "      <td>2023</td>\n",
       "      <td>Enero</td>\n",
       "      <td>Agave</td>\n",
       "    </tr>\n",
       "    <tr>\n",
       "      <th>4</th>\n",
       "      <td>Durango</td>\n",
       "      <td>Mezquital</td>\n",
       "      <td>110.00</td>\n",
       "      <td>0.00</td>\n",
       "      <td>0.0</td>\n",
       "      <td>0.00</td>\n",
       "      <td>0</td>\n",
       "      <td>2023</td>\n",
       "      <td>Enero</td>\n",
       "      <td>Agave</td>\n",
       "    </tr>\n",
       "    <tr>\n",
       "      <th>...</th>\n",
       "      <td>...</td>\n",
       "      <td>...</td>\n",
       "      <td>...</td>\n",
       "      <td>...</td>\n",
       "      <td>...</td>\n",
       "      <td>...</td>\n",
       "      <td>...</td>\n",
       "      <td>...</td>\n",
       "      <td>...</td>\n",
       "      <td>...</td>\n",
       "    </tr>\n",
       "    <tr>\n",
       "      <th>992208</th>\n",
       "      <td>Puebla</td>\n",
       "      <td>Domingo Arenas</td>\n",
       "      <td>12.00</td>\n",
       "      <td>12.00</td>\n",
       "      <td>0.0</td>\n",
       "      <td>110.00</td>\n",
       "      <td>9.17</td>\n",
       "      <td>2018</td>\n",
       "      <td>Diciembre</td>\n",
       "      <td>Zarzamora</td>\n",
       "    </tr>\n",
       "    <tr>\n",
       "      <th>992209</th>\n",
       "      <td>Puebla</td>\n",
       "      <td>Huejotzingo</td>\n",
       "      <td>10.00</td>\n",
       "      <td>10.00</td>\n",
       "      <td>0.0</td>\n",
       "      <td>98.00</td>\n",
       "      <td>9.80</td>\n",
       "      <td>2018</td>\n",
       "      <td>Diciembre</td>\n",
       "      <td>Zarzamora</td>\n",
       "    </tr>\n",
       "    <tr>\n",
       "      <th>992210</th>\n",
       "      <td>Puebla</td>\n",
       "      <td>Tochimilco</td>\n",
       "      <td>1.00</td>\n",
       "      <td>1.00</td>\n",
       "      <td>0.0</td>\n",
       "      <td>4.10</td>\n",
       "      <td>4.10</td>\n",
       "      <td>2018</td>\n",
       "      <td>Diciembre</td>\n",
       "      <td>Zarzamora</td>\n",
       "    </tr>\n",
       "    <tr>\n",
       "      <th>992211</th>\n",
       "      <td>Querétaro</td>\n",
       "      <td>San Juan del Río</td>\n",
       "      <td>3.00</td>\n",
       "      <td>3.00</td>\n",
       "      <td>0.0</td>\n",
       "      <td>23.10</td>\n",
       "      <td>7.70</td>\n",
       "      <td>2018</td>\n",
       "      <td>Diciembre</td>\n",
       "      <td>Zarzamora</td>\n",
       "    </tr>\n",
       "    <tr>\n",
       "      <th>992212</th>\n",
       "      <td>Veracruz</td>\n",
       "      <td>Coatepec</td>\n",
       "      <td>3.00</td>\n",
       "      <td>3.00</td>\n",
       "      <td>0.0</td>\n",
       "      <td>21.00</td>\n",
       "      <td>7.00</td>\n",
       "      <td>2018</td>\n",
       "      <td>Diciembre</td>\n",
       "      <td>Zarzamora</td>\n",
       "    </tr>\n",
       "  </tbody>\n",
       "</table>\n",
       "<p>992213 rows × 10 columns</p>\n",
       "</div>"
      ],
      "text/plain": [
       "                    Entidad         Municipio Superficie Sembrada  \\\n",
       "0            Aguascalientes    Aguascalientes                8.00   \n",
       "1       Baja California Sur            La Paz                3.00   \n",
       "2                    Colima        Manzanillo               86.29   \n",
       "3                   Durango           Durango               13.00   \n",
       "4                   Durango         Mezquital              110.00   \n",
       "...                     ...               ...                 ...   \n",
       "992208               Puebla    Domingo Arenas               12.00   \n",
       "992209               Puebla       Huejotzingo               10.00   \n",
       "992210               Puebla        Tochimilco                1.00   \n",
       "992211            Querétaro  San Juan del Río                3.00   \n",
       "992212             Veracruz          Coatepec                3.00   \n",
       "\n",
       "       Superficie Cosechada  Superficie Siniestrada Produccion Rendimiento  \\\n",
       "0                      0.00                     0.0       0.00           0   \n",
       "1                      0.00                     0.0       0.00           0   \n",
       "2                      0.00                     0.0       0.00           0   \n",
       "3                      0.00                     0.0       0.00           0   \n",
       "4                      0.00                     0.0       0.00           0   \n",
       "...                     ...                     ...        ...         ...   \n",
       "992208                12.00                     0.0     110.00        9.17   \n",
       "992209                10.00                     0.0      98.00        9.80   \n",
       "992210                 1.00                     0.0       4.10        4.10   \n",
       "992211                 3.00                     0.0      23.10        7.70   \n",
       "992212                 3.00                     0.0      21.00        7.00   \n",
       "\n",
       "        Anio        Mes    Cultivo  \n",
       "0       2023      Enero      Agave  \n",
       "1       2023      Enero      Agave  \n",
       "2       2023      Enero      Agave  \n",
       "3       2023      Enero      Agave  \n",
       "4       2023      Enero      Agave  \n",
       "...      ...        ...        ...  \n",
       "992208  2018  Diciembre  Zarzamora  \n",
       "992209  2018  Diciembre  Zarzamora  \n",
       "992210  2018  Diciembre  Zarzamora  \n",
       "992211  2018  Diciembre  Zarzamora  \n",
       "992212  2018  Diciembre  Zarzamora  \n",
       "\n",
       "[992213 rows x 10 columns]"
      ]
     },
     "execution_count": 13,
     "metadata": {},
     "output_type": "execute_result"
    }
   ],
   "source": [
    "df = pd.read_parquet('tidy.parquet')\n",
    "df"
   ]
  },
  {
   "cell_type": "code",
   "execution_count": null,
   "metadata": {},
   "outputs": [],
   "source": []
  }
 ],
 "metadata": {
  "kernelspec": {
   "display_name": "agricultura",
   "language": "python",
   "name": "python3"
  },
  "language_info": {
   "codemirror_mode": {
    "name": "ipython",
    "version": 3
   },
   "file_extension": ".py",
   "mimetype": "text/x-python",
   "name": "python",
   "nbconvert_exporter": "python",
   "pygments_lexer": "ipython3",
   "version": "3.11.5"
  },
  "orig_nbformat": 4
 },
 "nbformat": 4,
 "nbformat_minor": 2
}
