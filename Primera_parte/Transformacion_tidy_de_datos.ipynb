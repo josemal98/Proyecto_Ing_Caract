{
 "cells": [
  {
   "cell_type": "markdown",
   "metadata": {},
   "source": [
    "# Transformación de los datos "
   ]
  },
  {
   "cell_type": "code",
   "execution_count": 1,
   "metadata": {},
   "outputs": [],
   "source": [
    "# !pip install pyarrow"
   ]
  },
  {
   "cell_type": "code",
   "execution_count": 1,
   "metadata": {},
   "outputs": [],
   "source": [
    "# Importar librerías\n",
    "import pandas as pd\n",
    "import os\n",
    "import warnings\n",
    "import re"
   ]
  },
  {
   "cell_type": "code",
   "execution_count": 69,
   "metadata": {},
   "outputs": [],
   "source": [
    "# Crear carpeta para almacenar datos Tidy\n",
    "if not os.path.exists('Tidy'):\n",
    "    os.mkdir(\"Tidy\")"
   ]
  },
  {
   "cell_type": "markdown",
   "metadata": {},
   "source": [
    "## SIAP"
   ]
  },
  {
   "cell_type": "markdown",
   "metadata": {},
   "source": [
    "### Unión de los datos"
   ]
  },
  {
   "cell_type": "code",
   "execution_count": 70,
   "metadata": {},
   "outputs": [],
   "source": [
    "# Arreglos con valores de años, meses y cultivos\n",
    "anio_arr = pd.read_csv('./Catalogos_API_SIAP/Anio_Agricola.csv').ID.to_list()\n",
    "cultivo_arr = pd.read_csv('./Catalogos_API_SIAP/Cultivo.csv').ID.to_list()\n",
    "mes_arr = pd.read_csv('./Catalogos_API_SIAP/Mes_Agricola.csv').ID.to_list()\n",
    "cultivo_arr.remove(0) # 0: Todos"
   ]
  },
  {
   "cell_type": "code",
   "execution_count": 71,
   "metadata": {},
   "outputs": [
    {
     "name": "stderr",
     "output_type": "stream",
     "text": [
      "C:\\Users\\jcbar\\AppData\\Local\\Temp\\ipykernel_12576\\3475416861.py:10: FutureWarning: The behavior of DataFrame concatenation with empty or all-NA entries is deprecated. In a future version, this will no longer exclude empty or all-NA columns when determining the result dtypes. To retain the old behavior, exclude the relevant entries before the concat operation.\n",
      "  df_raw = pd.concat([df_raw, df_aux], axis=0)\n"
     ]
    }
   ],
   "source": [
    "# Dataframe vacío con las columnas de nuestros datos\n",
    "columnas = [\"Entidad\", \"Municipio\", \"Superficie Sembrada\", \"Superficie Cosechada\", \"Superficie Siniestrada\", \"Produccion\", \"Rendimiento\",\"Anio\", \"Mes\", \"Cultivo\"]\n",
    "df_raw = pd.DataFrame(columns=columnas)\n",
    "\n",
    "total = 0\n",
    "# Iteración sobre CSV's para llenar DataFrame\n",
    "for anio in anio_arr:\n",
    "    for i in range(1,13):\n",
    "        df_aux = pd.read_csv(\"./raw/SIAP/\"+str(anio)+\"/Avance_Agricola_\"+str(anio)+ \"_\" + str(i) + '.csv')\n",
    "        df_raw = pd.concat([df_raw, df_aux], axis=0)\n",
    "        total += df_aux.shape[0]\n",
    "\n",
    "# La columna Superficie Siniestrada se llena con nan's en sus valores faltantes\n",
    "df_raw['Superficie Siniestrada'] = pd.to_numeric(df_raw['Superficie Siniestrada'], errors='coerce')"
   ]
  },
  {
   "cell_type": "code",
   "execution_count": 72,
   "metadata": {},
   "outputs": [],
   "source": [
    "# Si aún no existe, guardamos el DataFrame en un parquet\n",
    "if not os.path.exists('raw/SIAP/Avance_Agricola_Historico.parquet'):\n",
    "    name_csv = \"Avance_Agricola_Historico\"\n",
    "    ruta_completa = os.path.join(\"raw/SIAP/\",name_csv)\n",
    "    df_raw.to_parquet(ruta_completa + '.parquet', index=False)"
   ]
  },
  {
   "cell_type": "code",
   "execution_count": 73,
   "metadata": {},
   "outputs": [
    {
     "name": "stdout",
     "output_type": "stream",
     "text": [
      "Total de datos:  1154774\n"
     ]
    }
   ],
   "source": [
    "# Instancias de los datos\n",
    "print(\"Total de datos: \",total)"
   ]
  },
  {
   "cell_type": "markdown",
   "metadata": {},
   "source": [
    "### Decodificación de variables"
   ]
  },
  {
   "cell_type": "code",
   "execution_count": 74,
   "metadata": {},
   "outputs": [],
   "source": [
    "# Cargar parquet\n",
    "df = pd.read_parquet('./raw/SIAP/Avance_Agricola_Historico.parquet')"
   ]
  },
  {
   "cell_type": "code",
   "execution_count": 75,
   "metadata": {},
   "outputs": [],
   "source": [
    "catalogo_cultivos = pd.read_csv('./Catalogos_API_SIAP/Cultivo.csv')\n",
    "catalogo_mes = pd.read_csv('./Catalogos_API_SIAP/Mes_Agricola.csv')\n",
    "\n",
    "catalogo_cultivos = catalogo_cultivos.set_index('ID')['Name'].to_dict()\n",
    "catalogo_mes = catalogo_mes.set_index('ID')['Name'].to_dict()\n",
    "\n",
    "df['Cultivo'] = df['Cultivo'].map(catalogo_cultivos)\n",
    "df['Mes'] = df['Mes'].map(catalogo_mes)\n"
   ]
  },
  {
   "cell_type": "code",
   "execution_count": 76,
   "metadata": {},
   "outputs": [],
   "source": [
    "if not os.path.exists('./Tidy/SIAP.parquet'):\n",
    "    df.to_parquet('./Tidy/SIAP.parquet', index=False)"
   ]
  },
  {
   "cell_type": "code",
   "execution_count": 77,
   "metadata": {},
   "outputs": [],
   "source": [
    "df = pd.read_parquet('./Tidy/SIAP.parquet')"
   ]
  },
  {
   "cell_type": "code",
   "execution_count": 78,
   "metadata": {},
   "outputs": [
    {
     "data": {
      "text/plain": [
       "['Entidad',\n",
       " 'Municipio',\n",
       " 'Superficie Sembrada',\n",
       " 'Superficie Cosechada',\n",
       " 'Superficie Siniestrada',\n",
       " 'Produccion',\n",
       " 'Rendimiento',\n",
       " 'Anio',\n",
       " 'Mes',\n",
       " 'Cultivo']"
      ]
     },
     "execution_count": 78,
     "metadata": {},
     "output_type": "execute_result"
    }
   ],
   "source": [
    "df.columns.to_list()"
   ]
  },
  {
   "cell_type": "code",
   "execution_count": 79,
   "metadata": {},
   "outputs": [
    {
     "data": {
      "text/plain": [
       "(1154774, 10)"
      ]
     },
     "execution_count": 79,
     "metadata": {},
     "output_type": "execute_result"
    }
   ],
   "source": [
    "df.shape"
   ]
  },
  {
   "cell_type": "code",
   "execution_count": 80,
   "metadata": {},
   "outputs": [
    {
     "data": {
      "text/html": [
       "<div>\n",
       "<style scoped>\n",
       "    .dataframe tbody tr th:only-of-type {\n",
       "        vertical-align: middle;\n",
       "    }\n",
       "\n",
       "    .dataframe tbody tr th {\n",
       "        vertical-align: top;\n",
       "    }\n",
       "\n",
       "    .dataframe thead th {\n",
       "        text-align: right;\n",
       "    }\n",
       "</style>\n",
       "<table border=\"1\" class=\"dataframe\">\n",
       "  <thead>\n",
       "    <tr style=\"text-align: right;\">\n",
       "      <th></th>\n",
       "      <th>Entidad</th>\n",
       "      <th>Municipio</th>\n",
       "      <th>Superficie Sembrada</th>\n",
       "      <th>Superficie Cosechada</th>\n",
       "      <th>Superficie Siniestrada</th>\n",
       "      <th>Produccion</th>\n",
       "      <th>Rendimiento</th>\n",
       "      <th>Anio</th>\n",
       "      <th>Mes</th>\n",
       "      <th>Cultivo</th>\n",
       "    </tr>\n",
       "  </thead>\n",
       "  <tbody>\n",
       "    <tr>\n",
       "      <th>792011</th>\n",
       "      <td>Sinaloa</td>\n",
       "      <td>Mocorito</td>\n",
       "      <td>10,631.00</td>\n",
       "      <td>0.00</td>\n",
       "      <td>0.0</td>\n",
       "      <td>0.00</td>\n",
       "      <td>0</td>\n",
       "      <td>2019</td>\n",
       "      <td>Marzo</td>\n",
       "      <td>Maíz grano</td>\n",
       "    </tr>\n",
       "    <tr>\n",
       "      <th>916004</th>\n",
       "      <td>Nayarit</td>\n",
       "      <td>Compostela</td>\n",
       "      <td>90.00</td>\n",
       "      <td>90.00</td>\n",
       "      <td>0.0</td>\n",
       "      <td>1,548.00</td>\n",
       "      <td>17.20</td>\n",
       "      <td>2019</td>\n",
       "      <td>Octubre</td>\n",
       "      <td>Sorgo forrajero en verde</td>\n",
       "    </tr>\n",
       "    <tr>\n",
       "      <th>916321</th>\n",
       "      <td>Guerrero</td>\n",
       "      <td>Huitzuco de Los Figueroa</td>\n",
       "      <td>537.83</td>\n",
       "      <td>0.00</td>\n",
       "      <td>0.0</td>\n",
       "      <td>0.00</td>\n",
       "      <td>0</td>\n",
       "      <td>2019</td>\n",
       "      <td>Octubre</td>\n",
       "      <td>Sorgo grano</td>\n",
       "    </tr>\n",
       "    <tr>\n",
       "      <th>816723</th>\n",
       "      <td>Oaxaca</td>\n",
       "      <td>Villa Díaz Ordaz</td>\n",
       "      <td>6.95</td>\n",
       "      <td>0.00</td>\n",
       "      <td>0.0</td>\n",
       "      <td>0.00</td>\n",
       "      <td>0</td>\n",
       "      <td>2019</td>\n",
       "      <td>Mayo</td>\n",
       "      <td>Durazno</td>\n",
       "    </tr>\n",
       "    <tr>\n",
       "      <th>513082</th>\n",
       "      <td>Guerrero</td>\n",
       "      <td>Arcelia</td>\n",
       "      <td>2.98</td>\n",
       "      <td>0.00</td>\n",
       "      <td>0.0</td>\n",
       "      <td>0.00</td>\n",
       "      <td>0</td>\n",
       "      <td>2021</td>\n",
       "      <td>Octubre</td>\n",
       "      <td>Guayaba</td>\n",
       "    </tr>\n",
       "  </tbody>\n",
       "</table>\n",
       "</div>"
      ],
      "text/plain": [
       "         Entidad                 Municipio Superficie Sembrada  \\\n",
       "792011   Sinaloa                  Mocorito           10,631.00   \n",
       "916004   Nayarit                Compostela               90.00   \n",
       "916321  Guerrero  Huitzuco de Los Figueroa              537.83   \n",
       "816723    Oaxaca          Villa Díaz Ordaz                6.95   \n",
       "513082  Guerrero                   Arcelia                2.98   \n",
       "\n",
       "       Superficie Cosechada  Superficie Siniestrada Produccion Rendimiento  \\\n",
       "792011                 0.00                     0.0       0.00           0   \n",
       "916004                90.00                     0.0   1,548.00       17.20   \n",
       "916321                 0.00                     0.0       0.00           0   \n",
       "816723                 0.00                     0.0       0.00           0   \n",
       "513082                 0.00                     0.0       0.00           0   \n",
       "\n",
       "        Anio      Mes                   Cultivo  \n",
       "792011  2019    Marzo                Maíz grano  \n",
       "916004  2019  Octubre  Sorgo forrajero en verde  \n",
       "916321  2019  Octubre               Sorgo grano  \n",
       "816723  2019     Mayo                   Durazno  \n",
       "513082  2021  Octubre                   Guayaba  "
      ]
     },
     "execution_count": 80,
     "metadata": {},
     "output_type": "execute_result"
    }
   ],
   "source": [
    "df.sample(n=5)"
   ]
  },
  {
   "cell_type": "markdown",
   "metadata": {},
   "source": [
    "## SNIIM"
   ]
  },
  {
   "cell_type": "markdown",
   "metadata": {},
   "source": [
    "### Unión de los datos"
   ]
  },
  {
   "cell_type": "code",
   "execution_count": 43,
   "metadata": {},
   "outputs": [
    {
     "name": "stdout",
     "output_type": "stream",
     "text": [
      "El archivo sniim_product_aguacate_fuerte_primera.csv está vacío y se omitirá.\n",
      "El archivo sniim_product_aguacate_hass_flor_vieja_primera.csv está vacío y se omitirá.\n",
      "El archivo sniim_product_melón_cantaloupe_#_16_primera.csv está vacío y se omitirá.\n",
      "El archivo sniim_product_melón_cantaloupe_#_45_primera.csv está vacío y se omitirá.\n",
      "El archivo sniim_product_melón_cantaloupe_#_48_primera.csv está vacío y se omitirá.\n",
      "El archivo sniim_product_papa_marciana_primera.csv está vacío y se omitirá.\n",
      "El archivo sniim_product_plátano_enanogigante_primera.csv está vacío y se omitirá.\n",
      "El archivo sniim_product_santa_lucía_girasol.csv está vacío y se omitirá.\n",
      "El archivo sniim_product_santa_lucía_vegetal_mixto.csv está vacío y se omitirá.\n",
      "El archivo sniim_product_santísima_vegetal_mixto.csv está vacío y se omitirá.\n",
      "El archivo sniim_product_sarita_cártamo.csv está vacío y se omitirá.\n",
      "El archivo sniim_product_sarita_maíz.csv está vacío y se omitirá.\n",
      "El archivo sniim_product_sarita_vegetal_mixto.csv está vacío y se omitirá.\n",
      "El archivo sniim_product_sin_especificar_cártamo.csv está vacío y se omitirá.\n",
      "El archivo sniim_product_sin_especificar_girasol.csv está vacío y se omitirá.\n",
      "El archivo sniim_product_sin_especificar_maíz.csv está vacío y se omitirá.\n",
      "El archivo sniim_product_sin_especificar_soya.csv está vacío y se omitirá.\n",
      "El archivo sniim_product_sin_especificar_vegetal_mixto.csv está vacío y se omitirá.\n",
      "El archivo sniim_product_soraya_vegetal_mixto.csv está vacío y se omitirá.\n",
      "El archivo sniim_product_springfield_imp._maíz.csv está vacío y se omitirá.\n",
      "El archivo sniim_product_springfield_imp._soya.csv está vacío y se omitirá.\n",
      "El archivo sniim_product_tayde_verde_vegetal_mixto.csv está vacío y se omitirá.\n",
      "El archivo sniim_product_trébol_vegetal_mixto.csv está vacío y se omitirá.\n",
      "El archivo sniim_product_tulipán_cártamo.csv está vacío y se omitirá.\n",
      "El archivo sniim_product_tulipán_vegetal_mixto.csv está vacío y se omitirá.\n",
      "El archivo sniim_product_uva_calmeria_primera.csv está vacío y se omitirá.\n",
      "El archivo sniim_product_uva_moscatel_primera.csv está vacío y se omitirá.\n",
      "El archivo sniim_product_uva_queen_primera.csv está vacío y se omitirá.\n",
      "El archivo sniim_product_victoria_cártamo.csv está vacío y se omitirá.\n"
     ]
    }
   ],
   "source": [
    "# Crea una lista para almacenar los DataFrames de los archivos CSV\n",
    "dataframes = []\n",
    "\n",
    "# Itera a través de los archivos en la ruta\n",
    "for archivo in os.listdir(\"./raw/SNIIM/\"):\n",
    "    if archivo.endswith(\".csv\"):\n",
    "        # Lee cada archivo CSV y lo convierte en un DataFrame\n",
    "        archivo_csv = os.path.join('./raw/SNIIM/' + str(archivo))\n",
    "        if os.path.getsize(archivo_csv) > 0:\n",
    "            try:\n",
    "                df_sniim = pd.read_csv(archivo_csv)\n",
    "                dataframes.append(df_sniim)\n",
    "            except pd.errors.EmptyDataError:\n",
    "                print(f\"El archivo {archivo} está vacío y se omitirá.\")"
   ]
  },
  {
   "cell_type": "code",
   "execution_count": 44,
   "metadata": {},
   "outputs": [],
   "source": [
    "# Combina todos los DataFrames en uno solo\n",
    "df_completo = pd.concat(dataframes, ignore_index=True)"
   ]
  },
  {
   "cell_type": "code",
   "execution_count": 45,
   "metadata": {},
   "outputs": [],
   "source": [
    "# Renombrar las columnas \n",
    "nuevos_nombres = {\n",
    "    \"fecha\": \"Fecha\",\n",
    "    \"presentacion\": \"Presentacion\",\n",
    "    \"origen\": \"Origen\",\n",
    "    \"destino\": \"Destino\",\n",
    "    \"precio_min\": \"Precio_min\",\n",
    "    \"precio_max\": \"Precio_max\",\n",
    "    \"obs\": \"Observacion\",\n",
    "    \"name\":\"Cultivo\"\n",
    "}\n",
    "\n",
    "# Aplicar el renombramiento al df_completo\n",
    "df_completo = df_completo.rename(columns=nuevos_nombres)\n",
    "\n"
   ]
  },
  {
   "cell_type": "code",
   "execution_count": 53,
   "metadata": {},
   "outputs": [
    {
     "name": "stdout",
     "output_type": "stream",
     "text": [
      "Dimensión de los datos: (900763, 9)\n"
     ]
    }
   ],
   "source": [
    "# Dimensión de los datos\n",
    "print(f\"Dimensión de los datos: {df_completo.shape}\")"
   ]
  },
  {
   "cell_type": "code",
   "execution_count": 57,
   "metadata": {},
   "outputs": [
    {
     "data": {
      "text/plain": [
       "46"
      ]
     },
     "execution_count": 57,
     "metadata": {},
     "output_type": "execute_result"
    }
   ],
   "source": [
    "len(df_completo['Destino'].unique())"
   ]
  },
  {
   "cell_type": "code",
   "execution_count": 46,
   "metadata": {},
   "outputs": [
    {
     "data": {
      "text/html": [
       "<div>\n",
       "<style scoped>\n",
       "    .dataframe tbody tr th:only-of-type {\n",
       "        vertical-align: middle;\n",
       "    }\n",
       "\n",
       "    .dataframe tbody tr th {\n",
       "        vertical-align: top;\n",
       "    }\n",
       "\n",
       "    .dataframe thead th {\n",
       "        text-align: right;\n",
       "    }\n",
       "</style>\n",
       "<table border=\"1\" class=\"dataframe\">\n",
       "  <thead>\n",
       "    <tr style=\"text-align: right;\">\n",
       "      <th></th>\n",
       "      <th>Fecha</th>\n",
       "      <th>Presentacion</th>\n",
       "      <th>Origen</th>\n",
       "      <th>Destino</th>\n",
       "      <th>Precio_min</th>\n",
       "      <th>Precio_max</th>\n",
       "      <th>precio_frec</th>\n",
       "      <th>Observacion</th>\n",
       "      <th>Cultivo</th>\n",
       "    </tr>\n",
       "  </thead>\n",
       "  <tbody>\n",
       "    <tr>\n",
       "      <th>518265</th>\n",
       "      <td>26/04/2023</td>\n",
       "      <td>Caja de 28 kg.</td>\n",
       "      <td>Chiapas</td>\n",
       "      <td>Aguascalientes: Centro Comercial Agropecuario ...</td>\n",
       "      <td>23.21</td>\n",
       "      <td>23.93</td>\n",
       "      <td>23.57</td>\n",
       "      <td>NaN</td>\n",
       "      <td>mango ataulfo_primera</td>\n",
       "    </tr>\n",
       "    <tr>\n",
       "      <th>90893</th>\n",
       "      <td>22/09/2023</td>\n",
       "      <td>Kilogramo</td>\n",
       "      <td>Guanajuato</td>\n",
       "      <td>Guanajuato: Central de Abasto de León</td>\n",
       "      <td>28.00</td>\n",
       "      <td>30.0</td>\n",
       "      <td>28.00</td>\n",
       "      <td>NaN</td>\n",
       "      <td>camote_primera</td>\n",
       "    </tr>\n",
       "    <tr>\n",
       "      <th>214796</th>\n",
       "      <td>19/10/2021</td>\n",
       "      <td>Arpilla de 24 kg.</td>\n",
       "      <td>Baja California</td>\n",
       "      <td>Baja California : Central de Abasto INDIA, Tij...</td>\n",
       "      <td>10.42</td>\n",
       "      <td>10.42</td>\n",
       "      <td>10.42</td>\n",
       "      <td>NaN</td>\n",
       "      <td>chile jalapeño_primera</td>\n",
       "    </tr>\n",
       "    <tr>\n",
       "      <th>142191</th>\n",
       "      <td>15/05/2018</td>\n",
       "      <td>Kilogramo</td>\n",
       "      <td>Jalisco</td>\n",
       "      <td>Baja California Sur: Unión de Comerciantes de ...</td>\n",
       "      <td>145.00</td>\n",
       "      <td>150.0</td>\n",
       "      <td>150.00</td>\n",
       "      <td>NaN</td>\n",
       "      <td>chile ancho_primera</td>\n",
       "    </tr>\n",
       "    <tr>\n",
       "      <th>174173</th>\n",
       "      <td>08/06/2022</td>\n",
       "      <td>Kilogramo</td>\n",
       "      <td>Sinaloa</td>\n",
       "      <td>Coahuila: Central de Abasto de La Laguna, Torreón</td>\n",
       "      <td>25.00</td>\n",
       "      <td>28.0</td>\n",
       "      <td>28.00</td>\n",
       "      <td>NaN</td>\n",
       "      <td>chile chilaca_primera</td>\n",
       "    </tr>\n",
       "  </tbody>\n",
       "</table>\n",
       "</div>"
      ],
      "text/plain": [
       "             Fecha       Presentacion           Origen  \\\n",
       "518265  26/04/2023     Caja de 28 kg.          Chiapas   \n",
       "90893   22/09/2023          Kilogramo       Guanajuato   \n",
       "214796  19/10/2021  Arpilla de 24 kg.  Baja California   \n",
       "142191  15/05/2018          Kilogramo          Jalisco   \n",
       "174173  08/06/2022          Kilogramo          Sinaloa   \n",
       "\n",
       "                                                  Destino  Precio_min  \\\n",
       "518265  Aguascalientes: Centro Comercial Agropecuario ...       23.21   \n",
       "90893               Guanajuato: Central de Abasto de León       28.00   \n",
       "214796  Baja California : Central de Abasto INDIA, Tij...       10.42   \n",
       "142191  Baja California Sur: Unión de Comerciantes de ...      145.00   \n",
       "174173  Coahuila: Central de Abasto de La Laguna, Torreón       25.00   \n",
       "\n",
       "       Precio_max  precio_frec Observacion                 Cultivo  \n",
       "518265      23.93        23.57         NaN   mango ataulfo_primera  \n",
       "90893        30.0        28.00         NaN          camote_primera  \n",
       "214796      10.42        10.42         NaN  chile jalapeño_primera  \n",
       "142191      150.0       150.00         NaN     chile ancho_primera  \n",
       "174173       28.0        28.00         NaN   chile chilaca_primera  "
      ]
     },
     "execution_count": 46,
     "metadata": {},
     "output_type": "execute_result"
    }
   ],
   "source": [
    "# Muestra de 5 filas aleatorias del dataframe\n",
    "df_completo.sample(n=5)"
   ]
  },
  {
   "cell_type": "code",
   "execution_count": 47,
   "metadata": {},
   "outputs": [
    {
     "data": {
      "text/plain": [
       "Fecha            object\n",
       "Presentacion     object\n",
       "Origen           object\n",
       "Destino          object\n",
       "Precio_min      float64\n",
       "Precio_max       object\n",
       "precio_frec     float64\n",
       "Observacion      object\n",
       "Cultivo          object\n",
       "dtype: object"
      ]
     },
     "execution_count": 47,
     "metadata": {},
     "output_type": "execute_result"
    }
   ],
   "source": [
    "# Tipo de dato de cada columna\n",
    "df_completo.dtypes"
   ]
  },
  {
   "cell_type": "code",
   "execution_count": 48,
   "metadata": {},
   "outputs": [
    {
     "data": {
      "text/plain": [
       "Fecha            object\n",
       "Presentacion     object\n",
       "Origen           object\n",
       "Destino          object\n",
       "Precio_min      float64\n",
       "Precio_max      float64\n",
       "precio_frec     float64\n",
       "Observacion      object\n",
       "Cultivo          object\n",
       "dtype: object"
      ]
     },
     "execution_count": 48,
     "metadata": {},
     "output_type": "execute_result"
    }
   ],
   "source": [
    "# \"Precio_max\" de objecto a float\n",
    "df_completo['Precio_max'] = df_completo['Precio_max'].str.replace(\",\", \"\")\n",
    "df_completo['Precio_max'] = df_completo['Precio_max'].astype(\"float\")\n",
    "# Nuevo tipo de dato de cada columna\n",
    "df_completo.dtypes"
   ]
  },
  {
   "cell_type": "code",
   "execution_count": 49,
   "metadata": {},
   "outputs": [],
   "source": [
    "# Almacenamos el archivo como parquet \n",
    "if not os.path.exists('./Tidy/SNIIM.parquet'):\n",
    "    df_completo['Observacion'] = df_completo['Observacion'].astype(str)\n",
    "    df_completo.to_parquet('./Tidy/SNIIM.parquet', index=False)"
   ]
  },
  {
   "cell_type": "code",
   "execution_count": 52,
   "metadata": {},
   "outputs": [],
   "source": [
    "#df_completo.columns.to_list()"
   ]
  }
 ],
 "metadata": {
  "kernelspec": {
   "display_name": "agricultura",
   "language": "python",
   "name": "python3"
  },
  "language_info": {
   "codemirror_mode": {
    "name": "ipython",
    "version": 3
   },
   "file_extension": ".py",
   "mimetype": "text/x-python",
   "name": "python",
   "nbconvert_exporter": "python",
   "pygments_lexer": "ipython3",
   "version": "3.11.4"
  },
  "orig_nbformat": 4
 },
 "nbformat": 4,
 "nbformat_minor": 2
}
