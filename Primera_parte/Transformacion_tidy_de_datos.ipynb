{
 "cells": [
  {
   "cell_type": "markdown",
   "metadata": {},
   "source": [
    "# Transformación de los datos "
   ]
  },
  {
   "cell_type": "code",
   "execution_count": 1,
   "metadata": {},
   "outputs": [],
   "source": [
    "# !pip install pyarrow"
   ]
  },
  {
   "cell_type": "code",
   "execution_count": 140,
   "metadata": {},
   "outputs": [],
   "source": [
    "# Importar librerías\n",
    "import pandas as pd\n",
    "import os\n",
    "import warnings\n",
    "import re"
   ]
  },
  {
   "cell_type": "code",
   "execution_count": 69,
   "metadata": {},
   "outputs": [],
   "source": [
    "# Crear carpeta para almacenar datos Tidy\n",
    "if not os.path.exists('Tidy'):\n",
    "    os.mkdir(\"Tidy\")"
   ]
  },
  {
   "cell_type": "markdown",
   "metadata": {},
   "source": [
    "## SIAP"
   ]
  },
  {
   "cell_type": "markdown",
   "metadata": {},
   "source": [
    "### Unión de los datos"
   ]
  },
  {
   "cell_type": "code",
   "execution_count": 169,
   "metadata": {},
   "outputs": [],
   "source": [
    "# Arreglos con valores de años, meses y cultivos\n",
    "anio_arr = pd.read_csv('./Catalogos_API_SIAP/Anio_Agricola.csv').ID.to_list()\n",
    "cultivo_arr = pd.read_csv('./Catalogos_API_SIAP/Cultivo.csv').ID.to_list()\n",
    "mes_arr = pd.read_csv('./Catalogos_API_SIAP/Mes_Agricola.csv').ID.to_list()\n",
    "cultivo_arr.remove(0) # 0: Todos"
   ]
  },
  {
   "cell_type": "code",
   "execution_count": 170,
   "metadata": {},
   "outputs": [
    {
     "name": "stderr",
     "output_type": "stream",
     "text": [
      "C:\\Users\\jcbar\\AppData\\Local\\Temp\\ipykernel_15524\\3475416861.py:10: FutureWarning: The behavior of DataFrame concatenation with empty or all-NA entries is deprecated. In a future version, this will no longer exclude empty or all-NA columns when determining the result dtypes. To retain the old behavior, exclude the relevant entries before the concat operation.\n",
      "  df_raw = pd.concat([df_raw, df_aux], axis=0)\n"
     ]
    }
   ],
   "source": [
    "# Dataframe vacío con las columnas de nuestros datos\n",
    "columnas = [\"Entidad\", \"Municipio\", \"Superficie Sembrada\", \"Superficie Cosechada\", \"Superficie Siniestrada\", \"Produccion\", \"Rendimiento\",\"Anio\", \"Mes\", \"Cultivo\"]\n",
    "df_raw = pd.DataFrame(columns=columnas)\n",
    "\n",
    "total = 0\n",
    "# Iteración sobre CSV's para llenar DataFrame\n",
    "for anio in anio_arr:\n",
    "    for i in range(1,13):\n",
    "        df_aux = pd.read_csv(\"./raw/SIAP/\"+str(anio)+\"/Avance_Agricola_\"+str(anio)+ \"_\" + str(i) + '.csv')\n",
    "        df_raw = pd.concat([df_raw, df_aux], axis=0)\n",
    "        total += df_aux.shape[0]\n",
    "\n",
    "# La columna Superficie Siniestrada se llena con nan's en sus valores faltantes\n",
    "df_raw['Superficie Siniestrada'] = pd.to_numeric(df_raw['Superficie Siniestrada'], errors='coerce')"
   ]
  },
  {
   "cell_type": "code",
   "execution_count": 180,
   "metadata": {},
   "outputs": [
    {
     "name": "stdout",
     "output_type": "stream",
     "text": [
      "Dimensión de los datos: (1154774, 10)\n"
     ]
    }
   ],
   "source": [
    "# Dimensión de los datos\n",
    "print(f\"Dimensión de los datos: {df_raw.shape}\")"
   ]
  },
  {
   "cell_type": "code",
   "execution_count": 171,
   "metadata": {},
   "outputs": [
    {
     "data": {
      "text/html": [
       "<div>\n",
       "<style scoped>\n",
       "    .dataframe tbody tr th:only-of-type {\n",
       "        vertical-align: middle;\n",
       "    }\n",
       "\n",
       "    .dataframe tbody tr th {\n",
       "        vertical-align: top;\n",
       "    }\n",
       "\n",
       "    .dataframe thead th {\n",
       "        text-align: right;\n",
       "    }\n",
       "</style>\n",
       "<table border=\"1\" class=\"dataframe\">\n",
       "  <thead>\n",
       "    <tr style=\"text-align: right;\">\n",
       "      <th></th>\n",
       "      <th>Entidad</th>\n",
       "      <th>Municipio</th>\n",
       "      <th>Superficie Sembrada</th>\n",
       "      <th>Superficie Cosechada</th>\n",
       "      <th>Superficie Siniestrada</th>\n",
       "      <th>Produccion</th>\n",
       "      <th>Rendimiento</th>\n",
       "      <th>Anio</th>\n",
       "      <th>Mes</th>\n",
       "      <th>Cultivo</th>\n",
       "    </tr>\n",
       "  </thead>\n",
       "  <tbody>\n",
       "    <tr>\n",
       "      <th>16922</th>\n",
       "      <td>Michoacán</td>\n",
       "      <td>Tacámbaro</td>\n",
       "      <td>50.25</td>\n",
       "      <td>12.00</td>\n",
       "      <td>0.0</td>\n",
       "      <td>174.00</td>\n",
       "      <td>14.50</td>\n",
       "      <td>2022</td>\n",
       "      <td>6</td>\n",
       "      <td>390</td>\n",
       "    </tr>\n",
       "    <tr>\n",
       "      <th>10220</th>\n",
       "      <td>Veracruz</td>\n",
       "      <td>Mecatlán</td>\n",
       "      <td>810.00</td>\n",
       "      <td>62.64</td>\n",
       "      <td>0.0</td>\n",
       "      <td>124.66</td>\n",
       "      <td>1.99</td>\n",
       "      <td>2019</td>\n",
       "      <td>5</td>\n",
       "      <td>225</td>\n",
       "    </tr>\n",
       "    <tr>\n",
       "      <th>14998</th>\n",
       "      <td>Jalisco</td>\n",
       "      <td>Talpa de Allende</td>\n",
       "      <td>13.00</td>\n",
       "      <td>13.00</td>\n",
       "      <td>0.0</td>\n",
       "      <td>414.50</td>\n",
       "      <td>31.88</td>\n",
       "      <td>2021</td>\n",
       "      <td>11</td>\n",
       "      <td>285</td>\n",
       "    </tr>\n",
       "    <tr>\n",
       "      <th>5050</th>\n",
       "      <td>Zacatecas</td>\n",
       "      <td>Fresnillo</td>\n",
       "      <td>2,030.00</td>\n",
       "      <td>960.00</td>\n",
       "      <td>0.0</td>\n",
       "      <td>3,475.00</td>\n",
       "      <td>3.62</td>\n",
       "      <td>2022</td>\n",
       "      <td>9</td>\n",
       "      <td>77</td>\n",
       "    </tr>\n",
       "    <tr>\n",
       "      <th>2582</th>\n",
       "      <td>Hidalgo</td>\n",
       "      <td>Tulancingo de Bravo</td>\n",
       "      <td>394.77</td>\n",
       "      <td>126.50</td>\n",
       "      <td>0.0</td>\n",
       "      <td>2,061.95</td>\n",
       "      <td>16.30</td>\n",
       "      <td>2023</td>\n",
       "      <td>7</td>\n",
       "      <td>42</td>\n",
       "    </tr>\n",
       "  </tbody>\n",
       "</table>\n",
       "</div>"
      ],
      "text/plain": [
       "         Entidad            Municipio Superficie Sembrada  \\\n",
       "16922  Michoacán            Tacámbaro               50.25   \n",
       "10220   Veracruz             Mecatlán              810.00   \n",
       "14998    Jalisco     Talpa de Allende               13.00   \n",
       "5050   Zacatecas            Fresnillo            2,030.00   \n",
       "2582     Hidalgo  Tulancingo de Bravo              394.77   \n",
       "\n",
       "      Superficie Cosechada  Superficie Siniestrada Produccion Rendimiento  \\\n",
       "16922                12.00                     0.0     174.00       14.50   \n",
       "10220                62.64                     0.0     124.66        1.99   \n",
       "14998                13.00                     0.0     414.50       31.88   \n",
       "5050                960.00                     0.0   3,475.00        3.62   \n",
       "2582                126.50                     0.0   2,061.95       16.30   \n",
       "\n",
       "       Anio Mes Cultivo  \n",
       "16922  2022   6     390  \n",
       "10220  2019   5     225  \n",
       "14998  2021  11     285  \n",
       "5050   2022   9      77  \n",
       "2582   2023   7      42  "
      ]
     },
     "execution_count": 171,
     "metadata": {},
     "output_type": "execute_result"
    }
   ],
   "source": [
    "# 5 filas ejemplos\n",
    "df_raw.sample(n=5)"
   ]
  },
  {
   "cell_type": "code",
   "execution_count": 72,
   "metadata": {},
   "outputs": [],
   "source": [
    "# Si aún no existe, guardamos el DataFrame en un parquet\n",
    "if not os.path.exists('raw/SIAP/Avance_Agricola_Historico.parquet'):\n",
    "    name_csv = \"Avance_Agricola_Historico\"\n",
    "    ruta_completa = os.path.join(\"raw/SIAP/\",name_csv)\n",
    "    df_raw.to_parquet(ruta_completa + '.parquet', index=False)"
   ]
  },
  {
   "cell_type": "markdown",
   "metadata": {},
   "source": [
    "### Decodificación de variables"
   ]
  },
  {
   "cell_type": "code",
   "execution_count": 173,
   "metadata": {},
   "outputs": [],
   "source": [
    "# Cargar parquet\n",
    "df = pd.read_parquet('./raw/SIAP/Avance_Agricola_Historico.parquet')"
   ]
  },
  {
   "cell_type": "code",
   "execution_count": 174,
   "metadata": {},
   "outputs": [],
   "source": [
    "# Cargar catálogos\n",
    "catalogo_cultivos = pd.read_csv('./Catalogos_API_SIAP/Cultivo.csv')  # Cultivos\n",
    "catalogo_mes = pd.read_csv('./Catalogos_API_SIAP/Mes_Agricola.csv')  # Meses\n",
    "\n",
    "# Convertir los id's en keys de diccionario\n",
    "catalogo_cultivos = catalogo_cultivos.set_index('ID')['Name'].to_dict()\n",
    "catalogo_mes = catalogo_mes.set_index('ID')['Name'].to_dict()\n",
    "\n",
    "# Mapear los valores de nuestras columnas con respecto a estos catálgoso\n",
    "df['Cultivo'] = df['Cultivo'].map(catalogo_cultivos)\n",
    "df['Mes'] = df['Mes'].map(catalogo_mes)\n"
   ]
  },
  {
   "cell_type": "code",
   "execution_count": 175,
   "metadata": {},
   "outputs": [
    {
     "data": {
      "text/html": [
       "<div>\n",
       "<style scoped>\n",
       "    .dataframe tbody tr th:only-of-type {\n",
       "        vertical-align: middle;\n",
       "    }\n",
       "\n",
       "    .dataframe tbody tr th {\n",
       "        vertical-align: top;\n",
       "    }\n",
       "\n",
       "    .dataframe thead th {\n",
       "        text-align: right;\n",
       "    }\n",
       "</style>\n",
       "<table border=\"1\" class=\"dataframe\">\n",
       "  <thead>\n",
       "    <tr style=\"text-align: right;\">\n",
       "      <th></th>\n",
       "      <th>Entidad</th>\n",
       "      <th>Municipio</th>\n",
       "      <th>Superficie Sembrada</th>\n",
       "      <th>Superficie Cosechada</th>\n",
       "      <th>Superficie Siniestrada</th>\n",
       "      <th>Produccion</th>\n",
       "      <th>Rendimiento</th>\n",
       "      <th>Anio</th>\n",
       "      <th>Mes</th>\n",
       "      <th>Cultivo</th>\n",
       "    </tr>\n",
       "  </thead>\n",
       "  <tbody>\n",
       "    <tr>\n",
       "      <th>744124</th>\n",
       "      <td>Guanajuato</td>\n",
       "      <td>Valle de Santiago</td>\n",
       "      <td>2,843.00</td>\n",
       "      <td>2,843.00</td>\n",
       "      <td>0.0</td>\n",
       "      <td>48,404.80</td>\n",
       "      <td>17.03</td>\n",
       "      <td>2020</td>\n",
       "      <td>Diciembre</td>\n",
       "      <td>Brócoli</td>\n",
       "    </tr>\n",
       "    <tr>\n",
       "      <th>614637</th>\n",
       "      <td>Oaxaca</td>\n",
       "      <td>San Juan Lajarcia</td>\n",
       "      <td>144.50</td>\n",
       "      <td>6.50</td>\n",
       "      <td>0.0</td>\n",
       "      <td>182.33</td>\n",
       "      <td>28.05</td>\n",
       "      <td>2020</td>\n",
       "      <td>Mayo</td>\n",
       "      <td>Agave</td>\n",
       "    </tr>\n",
       "    <tr>\n",
       "      <th>194384</th>\n",
       "      <td>Oaxaca</td>\n",
       "      <td>San Francisco Sola</td>\n",
       "      <td>6.20</td>\n",
       "      <td>3.50</td>\n",
       "      <td>0.0</td>\n",
       "      <td>3.22</td>\n",
       "      <td>0.92</td>\n",
       "      <td>2022</td>\n",
       "      <td>Abril</td>\n",
       "      <td>Frijol</td>\n",
       "    </tr>\n",
       "    <tr>\n",
       "      <th>795980</th>\n",
       "      <td>Querétaro</td>\n",
       "      <td>Tolimán</td>\n",
       "      <td>6.00</td>\n",
       "      <td>0.00</td>\n",
       "      <td>0.0</td>\n",
       "      <td>0.00</td>\n",
       "      <td>0</td>\n",
       "      <td>2019</td>\n",
       "      <td>Marzo</td>\n",
       "      <td>Tomate verde</td>\n",
       "    </tr>\n",
       "    <tr>\n",
       "      <th>535857</th>\n",
       "      <td>Puebla</td>\n",
       "      <td>Guadalupe Victoria</td>\n",
       "      <td>5,410.00</td>\n",
       "      <td>560.00</td>\n",
       "      <td>0.0</td>\n",
       "      <td>3,165.00</td>\n",
       "      <td>5.65</td>\n",
       "      <td>2021</td>\n",
       "      <td>Noviembre</td>\n",
       "      <td>Maíz grano</td>\n",
       "    </tr>\n",
       "  </tbody>\n",
       "</table>\n",
       "</div>"
      ],
      "text/plain": [
       "           Entidad           Municipio Superficie Sembrada  \\\n",
       "744124  Guanajuato   Valle de Santiago            2,843.00   \n",
       "614637      Oaxaca   San Juan Lajarcia              144.50   \n",
       "194384      Oaxaca  San Francisco Sola                6.20   \n",
       "795980   Querétaro             Tolimán                6.00   \n",
       "535857      Puebla  Guadalupe Victoria            5,410.00   \n",
       "\n",
       "       Superficie Cosechada  Superficie Siniestrada Produccion Rendimiento  \\\n",
       "744124             2,843.00                     0.0  48,404.80       17.03   \n",
       "614637                 6.50                     0.0     182.33       28.05   \n",
       "194384                 3.50                     0.0       3.22        0.92   \n",
       "795980                 0.00                     0.0       0.00           0   \n",
       "535857               560.00                     0.0   3,165.00        5.65   \n",
       "\n",
       "        Anio        Mes       Cultivo  \n",
       "744124  2020  Diciembre       Brócoli  \n",
       "614637  2020       Mayo         Agave  \n",
       "194384  2022      Abril        Frijol  \n",
       "795980  2019      Marzo  Tomate verde  \n",
       "535857  2021  Noviembre    Maíz grano  "
      ]
     },
     "execution_count": 175,
     "metadata": {},
     "output_type": "execute_result"
    }
   ],
   "source": [
    "# 5 filas ejemplos\n",
    "df.sample(n=5)"
   ]
  },
  {
   "cell_type": "code",
   "execution_count": 76,
   "metadata": {},
   "outputs": [],
   "source": [
    "# Crear parquet con los valores decodificados\n",
    "if not os.path.exists('./Tidy/SIAP.parquet'):\n",
    "    df.to_parquet('./Tidy/SIAP.parquet', index=False)"
   ]
  },
  {
   "cell_type": "markdown",
   "metadata": {},
   "source": [
    "## SNIIM"
   ]
  },
  {
   "cell_type": "markdown",
   "metadata": {},
   "source": [
    "### Unión de los datos"
   ]
  },
  {
   "cell_type": "code",
   "execution_count": 232,
   "metadata": {},
   "outputs": [
    {
     "name": "stdout",
     "output_type": "stream",
     "text": [
      "El archivo sniim_product_aguacate_fuerte_primera.csv está vacío y se omitirá.\n",
      "El archivo sniim_product_aguacate_hass_flor_vieja_primera.csv está vacío y se omitirá.\n",
      "El archivo sniim_product_melón_cantaloupe_#_16_primera.csv está vacío y se omitirá.\n",
      "El archivo sniim_product_melón_cantaloupe_#_45_primera.csv está vacío y se omitirá.\n",
      "El archivo sniim_product_melón_cantaloupe_#_48_primera.csv está vacío y se omitirá.\n",
      "El archivo sniim_product_papa_marciana_primera.csv está vacío y se omitirá.\n",
      "El archivo sniim_product_plátano_enanogigante_primera.csv está vacío y se omitirá.\n",
      "El archivo sniim_product_santa_lucía_girasol.csv está vacío y se omitirá.\n",
      "El archivo sniim_product_santa_lucía_vegetal_mixto.csv está vacío y se omitirá.\n",
      "El archivo sniim_product_santísima_vegetal_mixto.csv está vacío y se omitirá.\n",
      "El archivo sniim_product_sarita_cártamo.csv está vacío y se omitirá.\n",
      "El archivo sniim_product_sarita_maíz.csv está vacío y se omitirá.\n",
      "El archivo sniim_product_sarita_vegetal_mixto.csv está vacío y se omitirá.\n",
      "El archivo sniim_product_sin_especificar_cártamo.csv está vacío y se omitirá.\n",
      "El archivo sniim_product_sin_especificar_girasol.csv está vacío y se omitirá.\n",
      "El archivo sniim_product_sin_especificar_maíz.csv está vacío y se omitirá.\n",
      "El archivo sniim_product_sin_especificar_soya.csv está vacío y se omitirá.\n",
      "El archivo sniim_product_sin_especificar_vegetal_mixto.csv está vacío y se omitirá.\n",
      "El archivo sniim_product_soraya_vegetal_mixto.csv está vacío y se omitirá.\n",
      "El archivo sniim_product_springfield_imp._maíz.csv está vacío y se omitirá.\n",
      "El archivo sniim_product_springfield_imp._soya.csv está vacío y se omitirá.\n",
      "El archivo sniim_product_tayde_verde_vegetal_mixto.csv está vacío y se omitirá.\n",
      "El archivo sniim_product_trébol_vegetal_mixto.csv está vacío y se omitirá.\n",
      "El archivo sniim_product_tulipán_cártamo.csv está vacío y se omitirá.\n",
      "El archivo sniim_product_tulipán_vegetal_mixto.csv está vacío y se omitirá.\n",
      "El archivo sniim_product_uva_calmeria_primera.csv está vacío y se omitirá.\n",
      "El archivo sniim_product_uva_moscatel_primera.csv está vacío y se omitirá.\n",
      "El archivo sniim_product_uva_queen_primera.csv está vacío y se omitirá.\n",
      "El archivo sniim_product_victoria_cártamo.csv está vacío y se omitirá.\n"
     ]
    }
   ],
   "source": [
    "# Crea una lista para almacenar los DataFrames de los archivos CSV\n",
    "dataframes = []\n",
    "\n",
    "# Itera a través de los archivos en la ruta\n",
    "for archivo in os.listdir(\"./raw/SNIIM/\"):\n",
    "    if archivo.endswith(\".csv\"):\n",
    "        # Lee cada archivo CSV y lo convierte en un DataFrame\n",
    "        archivo_csv = os.path.join('./raw/SNIIM/' + str(archivo))\n",
    "        if os.path.getsize(archivo_csv) > 0:\n",
    "            try:\n",
    "                df_sniim = pd.read_csv(archivo_csv)\n",
    "                dataframes.append(df_sniim)\n",
    "            except pd.errors.EmptyDataError:\n",
    "                print(f\"El archivo {archivo} está vacío y se omitirá.\")"
   ]
  },
  {
   "cell_type": "code",
   "execution_count": 233,
   "metadata": {},
   "outputs": [
    {
     "data": {
      "text/html": [
       "<div>\n",
       "<style scoped>\n",
       "    .dataframe tbody tr th:only-of-type {\n",
       "        vertical-align: middle;\n",
       "    }\n",
       "\n",
       "    .dataframe tbody tr th {\n",
       "        vertical-align: top;\n",
       "    }\n",
       "\n",
       "    .dataframe thead th {\n",
       "        text-align: right;\n",
       "    }\n",
       "</style>\n",
       "<table border=\"1\" class=\"dataframe\">\n",
       "  <thead>\n",
       "    <tr style=\"text-align: right;\">\n",
       "      <th></th>\n",
       "      <th>fecha</th>\n",
       "      <th>presentacion</th>\n",
       "      <th>origen</th>\n",
       "      <th>destino</th>\n",
       "      <th>precio_min</th>\n",
       "      <th>precio_max</th>\n",
       "      <th>precio_frec</th>\n",
       "      <th>obs</th>\n",
       "      <th>name</th>\n",
       "    </tr>\n",
       "  </thead>\n",
       "  <tbody>\n",
       "    <tr>\n",
       "      <th>171120</th>\n",
       "      <td>08/05/2019</td>\n",
       "      <td>Kilogramo</td>\n",
       "      <td>Sinaloa</td>\n",
       "      <td>Coahuila: Central de Abasto de La Laguna, Torreón</td>\n",
       "      <td>20.00</td>\n",
       "      <td>21.0</td>\n",
       "      <td>20.50</td>\n",
       "      <td>NaN</td>\n",
       "      <td>chile chilaca_primera</td>\n",
       "    </tr>\n",
       "    <tr>\n",
       "      <th>328492</th>\n",
       "      <td>02/10/2020</td>\n",
       "      <td>Caja de 12 kg.</td>\n",
       "      <td>México</td>\n",
       "      <td>DF: Central de Abasto de Iztapalapa DF</td>\n",
       "      <td>19.17</td>\n",
       "      <td>21.67</td>\n",
       "      <td>20.83</td>\n",
       "      <td>NaN</td>\n",
       "      <td>durazno amarillo_primera</td>\n",
       "    </tr>\n",
       "    <tr>\n",
       "      <th>420945</th>\n",
       "      <td>17/09/2020</td>\n",
       "      <td>Kilogramo</td>\n",
       "      <td>Guanajuato</td>\n",
       "      <td>Aguascalientes: Centro Comercial Agropecuario ...</td>\n",
       "      <td>6.00</td>\n",
       "      <td>8.0</td>\n",
       "      <td>7.00</td>\n",
       "      <td>NaN</td>\n",
       "      <td>jícama_primera</td>\n",
       "    </tr>\n",
       "    <tr>\n",
       "      <th>225228</th>\n",
       "      <td>17/06/2022</td>\n",
       "      <td>Kilogramo</td>\n",
       "      <td>Aguascalientes</td>\n",
       "      <td>Aguascalientes: Centro Comercial Agropecuario ...</td>\n",
       "      <td>110.00</td>\n",
       "      <td>130.0</td>\n",
       "      <td>120.00</td>\n",
       "      <td>NaN</td>\n",
       "      <td>chile pasilla_primera</td>\n",
       "    </tr>\n",
       "    <tr>\n",
       "      <th>860337</th>\n",
       "      <td>18/07/2023</td>\n",
       "      <td>Caja de 9 kg.</td>\n",
       "      <td>Distrito Federal</td>\n",
       "      <td>Campeche: Mercado \"Pedro Sáinz de Baranda\", Ca...</td>\n",
       "      <td>55.56</td>\n",
       "      <td>61.11</td>\n",
       "      <td>61.11</td>\n",
       "      <td>NaN</td>\n",
       "      <td>uva sin semilla_primera</td>\n",
       "    </tr>\n",
       "  </tbody>\n",
       "</table>\n",
       "</div>"
      ],
      "text/plain": [
       "             fecha    presentacion            origen  \\\n",
       "171120  08/05/2019       Kilogramo           Sinaloa   \n",
       "328492  02/10/2020  Caja de 12 kg.            México   \n",
       "420945  17/09/2020       Kilogramo        Guanajuato   \n",
       "225228  17/06/2022       Kilogramo    Aguascalientes   \n",
       "860337  18/07/2023   Caja de 9 kg.  Distrito Federal   \n",
       "\n",
       "                                                  destino  precio_min  \\\n",
       "171120  Coahuila: Central de Abasto de La Laguna, Torreón       20.00   \n",
       "328492             DF: Central de Abasto de Iztapalapa DF       19.17   \n",
       "420945  Aguascalientes: Centro Comercial Agropecuario ...        6.00   \n",
       "225228  Aguascalientes: Centro Comercial Agropecuario ...      110.00   \n",
       "860337  Campeche: Mercado \"Pedro Sáinz de Baranda\", Ca...       55.56   \n",
       "\n",
       "       precio_max  precio_frec  obs                      name  \n",
       "171120       21.0        20.50  NaN     chile chilaca_primera  \n",
       "328492      21.67        20.83  NaN  durazno amarillo_primera  \n",
       "420945        8.0         7.00  NaN            jícama_primera  \n",
       "225228      130.0       120.00  NaN     chile pasilla_primera  \n",
       "860337      61.11        61.11  NaN   uva sin semilla_primera  "
      ]
     },
     "execution_count": 233,
     "metadata": {},
     "output_type": "execute_result"
    }
   ],
   "source": [
    "# Combina todos los DataFrames en uno solo\n",
    "df_completo = pd.concat(dataframes, ignore_index=True)\n",
    "# Muestra de 5 filas aleatorias del dataframe\n",
    "df_completo.sample(n=5)"
   ]
  },
  {
   "cell_type": "code",
   "execution_count": 234,
   "metadata": {},
   "outputs": [
    {
     "name": "stdout",
     "output_type": "stream",
     "text": [
      "Dimensión de los datos: (900763, 9)\n"
     ]
    }
   ],
   "source": [
    "# Dimensión de los datos\n",
    "print(f\"Dimensión de los datos: {df_completo.shape}\")"
   ]
  },
  {
   "cell_type": "code",
   "execution_count": 235,
   "metadata": {},
   "outputs": [],
   "source": [
    "# Renombrar las columnas para que sigan el mismo formato que los datos del SIAP\n",
    "nuevos_nombres = {\n",
    "    \"fecha\": \"Fecha\",\n",
    "    \"presentacion\": \"Presentacion\",\n",
    "    \"origen\": \"Origen\",\n",
    "    \"destino\": \"Destino\",\n",
    "    \"precio_min\": \"Precio Minimo\",\n",
    "    \"precio_max\": \"Precio Maximo\",\n",
    "    \"precio_frec\": \"Precio Frecuente\",\n",
    "    \"obs\": \"Observacion\",\n",
    "    \"name\":\"Cultivo\"\n",
    "}\n",
    "\n",
    "# Aplicar el renombramiento al df_completo\n",
    "df_completo = df_completo.rename(columns=nuevos_nombres)"
   ]
  },
  {
   "cell_type": "code",
   "execution_count": 236,
   "metadata": {},
   "outputs": [
    {
     "data": {
      "text/html": [
       "<div>\n",
       "<style scoped>\n",
       "    .dataframe tbody tr th:only-of-type {\n",
       "        vertical-align: middle;\n",
       "    }\n",
       "\n",
       "    .dataframe tbody tr th {\n",
       "        vertical-align: top;\n",
       "    }\n",
       "\n",
       "    .dataframe thead th {\n",
       "        text-align: right;\n",
       "    }\n",
       "</style>\n",
       "<table border=\"1\" class=\"dataframe\">\n",
       "  <thead>\n",
       "    <tr style=\"text-align: right;\">\n",
       "      <th></th>\n",
       "      <th>Fecha</th>\n",
       "      <th>Presentacion</th>\n",
       "      <th>Origen</th>\n",
       "      <th>Destino</th>\n",
       "      <th>Precio Minimo</th>\n",
       "      <th>Precio Maximo</th>\n",
       "      <th>Precio Frecuente</th>\n",
       "      <th>Observacion</th>\n",
       "      <th>Cultivo</th>\n",
       "    </tr>\n",
       "  </thead>\n",
       "  <tbody>\n",
       "    <tr>\n",
       "      <th>51936</th>\n",
       "      <td>01/12/2022</td>\n",
       "      <td>Manojo de 4 kg.</td>\n",
       "      <td>Puebla</td>\n",
       "      <td>Chiapas: Central de Abasto de Tuxtla Gutiérrez</td>\n",
       "      <td>10.00</td>\n",
       "      <td>15.0</td>\n",
       "      <td>10.00</td>\n",
       "      <td>NaN</td>\n",
       "      <td>betabel_primera</td>\n",
       "    </tr>\n",
       "    <tr>\n",
       "      <th>796001</th>\n",
       "      <td>09/09/2020</td>\n",
       "      <td>Caja de 13 kg.</td>\n",
       "      <td>Sinaloa</td>\n",
       "      <td>Aguascalientes: Centro Comercial Agropecuario ...</td>\n",
       "      <td>16.92</td>\n",
       "      <td>18.46</td>\n",
       "      <td>17.69</td>\n",
       "      <td>NaN</td>\n",
       "      <td>tomate bola_primera</td>\n",
       "    </tr>\n",
       "    <tr>\n",
       "      <th>152265</th>\n",
       "      <td>18/10/2022</td>\n",
       "      <td>Kilogramo</td>\n",
       "      <td>Sonora</td>\n",
       "      <td>Chihuahua: Mercado de Abasto de Cd. Juárez</td>\n",
       "      <td>40.00</td>\n",
       "      <td>40.0</td>\n",
       "      <td>40.00</td>\n",
       "      <td>NaN</td>\n",
       "      <td>chile california_primera</td>\n",
       "    </tr>\n",
       "    <tr>\n",
       "      <th>819015</th>\n",
       "      <td>26/09/2022</td>\n",
       "      <td>Kilogramo</td>\n",
       "      <td>Tamaulipas</td>\n",
       "      <td>Aguascalientes: Centro Comercial Agropecuario ...</td>\n",
       "      <td>15.00</td>\n",
       "      <td>17.0</td>\n",
       "      <td>16.00</td>\n",
       "      <td>NaN</td>\n",
       "      <td>toronja roja_primera</td>\n",
       "    </tr>\n",
       "    <tr>\n",
       "      <th>73096</th>\n",
       "      <td>29/09/2020</td>\n",
       "      <td>Caja de 15 kg.</td>\n",
       "      <td>Aguascalientes</td>\n",
       "      <td>Aguascalientes: Centro Comercial Agropecuario ...</td>\n",
       "      <td>11.33</td>\n",
       "      <td>12.67</td>\n",
       "      <td>12.00</td>\n",
       "      <td>NaN</td>\n",
       "      <td>calabacita italiana_primera</td>\n",
       "    </tr>\n",
       "  </tbody>\n",
       "</table>\n",
       "</div>"
      ],
      "text/plain": [
       "             Fecha     Presentacion          Origen  \\\n",
       "51936   01/12/2022  Manojo de 4 kg.          Puebla   \n",
       "796001  09/09/2020   Caja de 13 kg.         Sinaloa   \n",
       "152265  18/10/2022        Kilogramo          Sonora   \n",
       "819015  26/09/2022        Kilogramo      Tamaulipas   \n",
       "73096   29/09/2020   Caja de 15 kg.  Aguascalientes   \n",
       "\n",
       "                                                  Destino  Precio Minimo  \\\n",
       "51936      Chiapas: Central de Abasto de Tuxtla Gutiérrez          10.00   \n",
       "796001  Aguascalientes: Centro Comercial Agropecuario ...          16.92   \n",
       "152265         Chihuahua: Mercado de Abasto de Cd. Juárez          40.00   \n",
       "819015  Aguascalientes: Centro Comercial Agropecuario ...          15.00   \n",
       "73096   Aguascalientes: Centro Comercial Agropecuario ...          11.33   \n",
       "\n",
       "       Precio Maximo  Precio Frecuente Observacion  \\\n",
       "51936           15.0             10.00         NaN   \n",
       "796001         18.46             17.69         NaN   \n",
       "152265          40.0             40.00         NaN   \n",
       "819015          17.0             16.00         NaN   \n",
       "73096          12.67             12.00         NaN   \n",
       "\n",
       "                            Cultivo  \n",
       "51936               betabel_primera  \n",
       "796001          tomate bola_primera  \n",
       "152265     chile california_primera  \n",
       "819015         toronja roja_primera  \n",
       "73096   calabacita italiana_primera  "
      ]
     },
     "execution_count": 236,
     "metadata": {},
     "output_type": "execute_result"
    }
   ],
   "source": [
    "# Muestra de 5 filas aleatorias del dataframe\n",
    "df_completo.sample(n=5)"
   ]
  },
  {
   "cell_type": "markdown",
   "metadata": {},
   "source": [
    "El dataframe no puede almacenarse como parquet porque:\n",
    "- La columna \"Precio Maximo\" contiene floats y strings\n",
    "- La columna \"Observacion\" contiene inconsistencias"
   ]
  },
  {
   "cell_type": "code",
   "execution_count": 237,
   "metadata": {},
   "outputs": [
    {
     "data": {
      "text/plain": [
       "Fecha                object\n",
       "Presentacion         object\n",
       "Origen               object\n",
       "Destino              object\n",
       "Precio Minimo       float64\n",
       "Precio Maximo        object\n",
       "Precio Frecuente    float64\n",
       "Observacion          object\n",
       "Cultivo              object\n",
       "dtype: object"
      ]
     },
     "execution_count": 237,
     "metadata": {},
     "output_type": "execute_result"
    }
   ],
   "source": [
    "# Tipo de dato de cada columna\n",
    "df_completo.dtypes"
   ]
  },
  {
   "cell_type": "code",
   "execution_count": 238,
   "metadata": {},
   "outputs": [
    {
     "name": "stderr",
     "output_type": "stream",
     "text": [
      "C:\\Users\\jcbar\\AppData\\Local\\Temp\\ipykernel_15524\\4129408368.py:3: SettingWithCopyWarning: \n",
      "A value is trying to be set on a copy of a slice from a DataFrame\n",
      "\n",
      "See the caveats in the documentation: https://pandas.pydata.org/pandas-docs/stable/user_guide/indexing.html#returning-a-view-versus-a-copy\n",
      "  df_completo['Precio Maximo'][strings] = df_completo['Precio Maximo'][strings].str.replace(',', '').astype(float);  # Eliminar comas en estos elementos\n"
     ]
    },
    {
     "data": {
      "text/plain": [
       "Fecha                object\n",
       "Presentacion         object\n",
       "Origen               object\n",
       "Destino              object\n",
       "Precio Minimo       float64\n",
       "Precio Maximo       float64\n",
       "Precio Frecuente    float64\n",
       "Observacion          object\n",
       "Cultivo              object\n",
       "dtype: object"
      ]
     },
     "execution_count": 238,
     "metadata": {},
     "output_type": "execute_result"
    }
   ],
   "source": [
    "# \"Precio Maximo\" de object a float\n",
    "strings = df_completo['Precio Maximo'].apply(lambda x: isinstance(x, str)); # Identificar elementos de la columna que son strings\n",
    "df_completo['Precio Maximo'][strings] = df_completo['Precio Maximo'][strings].str.replace(',', '').astype(float);  # Eliminar comas en estos elementos\n",
    "df_completo['Precio Maximo'] = df_completo['Precio Maximo'].astype(float)   # Convertir elementos en float\n",
    "# Nuevo tipo de dato de cada columna\n",
    "df_completo.dtypes"
   ]
  },
  {
   "cell_type": "code",
   "execution_count": 239,
   "metadata": {},
   "outputs": [],
   "source": [
    "# \"Observacion\" a str\n",
    "df_completo['Observacion'] = df_completo['Observacion'].astype(str)"
   ]
  },
  {
   "cell_type": "code",
   "execution_count": 240,
   "metadata": {},
   "outputs": [],
   "source": [
    "# Almacenamos el archivo como parquet \n",
    "if not os.path.exists('./Tidy/SNIIM.parquet'):\n",
    "    df_completo.to_parquet('./Tidy/SNIIM.parquet', index=False)"
   ]
  }
 ],
 "metadata": {
  "kernelspec": {
   "display_name": "agricultura",
   "language": "python",
   "name": "python3"
  },
  "language_info": {
   "codemirror_mode": {
    "name": "ipython",
    "version": 3
   },
   "file_extension": ".py",
   "mimetype": "text/x-python",
   "name": "python",
   "nbconvert_exporter": "python",
   "pygments_lexer": "ipython3",
   "version": "3.11.4"
  },
  "orig_nbformat": 4
 },
 "nbformat": 4,
 "nbformat_minor": 2
}
