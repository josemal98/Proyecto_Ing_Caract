{
 "cells": [
  {
   "cell_type": "markdown",
   "metadata": {},
   "source": [
    "# Transformación de los datos "
   ]
  },
  {
   "cell_type": "code",
   "execution_count": 1,
   "metadata": {},
   "outputs": [],
   "source": [
    "# !pip install pyarrow"
   ]
  },
  {
   "cell_type": "code",
   "execution_count": 61,
   "metadata": {},
   "outputs": [],
   "source": [
    "# Importamos librerías."
    "import pandas as pd\n",
    "import os\n",
    "import warnings\n",
    "import re"
   ]
  },
  {
   "cell_type": "code",
   "execution_count": 62,
   "metadata": {},
   "outputs": [],
   "source": [
    "if not os.path.exists('Tidy'):\n",
    "    os.mkdir(\"Tidy\")"
   ]
  },
  {
   "cell_type": "markdown",
   "metadata": {},
   "source": [
    "## SIAP"
   ]
  },
  {
   "cell_type": "markdown",
   "metadata": {},
   "source": [
    "### Unión de los datos"
   ]
  },
  {
   "cell_type": "code",
   "execution_count": 121,
   "metadata": {},
   "outputs": [],
   "source": [
    "anio_arr = pd.read_csv('./Catalogos_API_SIAP/Anio_Agricola.csv').ID.to_list()\n",
    "cultivo_arr = pd.read_csv('./Catalogos_API_SIAP/Cultivo.csv').ID.to_list()\n",
    "mes_arr = pd.read_csv('./Catalogos_API_SIAP/Mes_Agricola.csv').ID.to_list()\n",
    "cultivo_arr.remove(0) # 0: Todos"
   ]
  },
  {
   "cell_type": "code",
   "execution_count": 122,
   "metadata": {},
   "outputs": [
    {
     "name": "stderr",
     "output_type": "stream",
     "text": [
      "C:\\Users\\vesna\\AppData\\Local\\Temp\\ipykernel_12924\\3818631907.py:9: FutureWarning: The behavior of DataFrame concatenation with empty or all-NA entries is deprecated. In a future version, this will no longer exclude empty or all-NA columns when determining the result dtypes. To retain the old behavior, exclude the relevant entries before the concat operation.\n",
      "  df_raw = pd.concat([df_raw, df_aux], axis=0)\n"
     ]
    }
   ],
   "source": [
    "# anio,mes,ciclo,cultivo, entidad, modalidad\n",
    "columnas = [\"Entidad\", \"Municipio\", \"Superficie Sembrada\", \"Superficie Cosechada\", \"Superficie Siniestrada\", \"Produccion\", \"Rendimiento\",\"Anio\", \"Mes\", \"Cultivo\"]\n",
    "df_raw = pd.DataFrame(columns=columnas)\n",
    "\n",
    "total = 0\n",
    "for anio in anio_arr:\n",
    "    for i in range(1,13):\n",
    "        df_aux = pd.read_csv(\"./raw/SIAP/\"+str(anio)+\"/Avance_Agricola_\"+str(anio)+ \"_\" + str(i) + '.csv')\n",
    "        df_raw = pd.concat([df_raw, df_aux], axis=0)\n",
    "        total += df_aux.shape[0]\n",
    "\n",
    "df_raw['Superficie Siniestrada'] = pd.to_numeric(df_raw['Superficie Siniestrada'], errors='coerce')"
   ]
  },
  {
   "cell_type": "code",
   "execution_count": 124,
   "metadata": {},
   "outputs": [],
   "source": [
    "if not os.path.exists('raw/SIAP/Avance_Agricola_Historico.parquet'):\n",
    "    name_csv = \"Avance_Agricola_Historico\"\n",
    "    ruta_completa = os.path.join(\"raw/SIAP/\",name_csv)\n",
    "    df_raw.to_parquet(ruta_completa + '.parquet', index=False)"
   ]
  },
  {
   "cell_type": "code",
   "execution_count": 125,
   "metadata": {},
   "outputs": [
    {
     "name": "stdout",
     "output_type": "stream",
     "text": [
      "Total de datos:  992213\n"
     ]
    }
   ],
   "source": [
    "print(\"Total de datos: \",total)"
   ]
  },
  {
   "cell_type": "markdown",
   "metadata": {},
   "source": [
    "### Decodificación de variables"
   ]
  },
  {
   "cell_type": "code",
   "execution_count": 126,
   "metadata": {},
   "outputs": [],
   "source": [
    "df = pd.read_parquet('./raw/SIAP/Avance_Agricola_Historico.parquet')"
   ]
  },
  {
   "cell_type": "code",
   "execution_count": 127,
   "metadata": {},
   "outputs": [],
   "source": [
    "catalogo_cultivos = pd.read_csv('./Catalogos_API_SIAP/Cultivo.csv')\n",
    "catalogo_mes = pd.read_csv('./Catalogos_API_SIAP/Mes_Agricola.csv')\n",
    "\n",
    "catalogo_cultivos = catalogo_cultivos.set_index('ID')['Name'].to_dict()\n",
    "catalogo_mes = catalogo_mes.set_index('ID')['Name'].to_dict()\n",
    "\n",
    "df['Cultivo'] = df['Cultivo'].map(catalogo_cultivos)\n",
    "df['Mes'] = df['Mes'].map(catalogo_mes)\n"
   ]
  },
  {
   "cell_type": "code",
   "execution_count": 128,
   "metadata": {},
   "outputs": [],
   "source": [
    "if not os.path.exists('./Tidy/SIAP.parquet'):\n",
    "    df.to_parquet('./Tidy/SIAP.parquet', index=False)"
   ]
  },
  {
   "cell_type": "code",
   "execution_count": 130,
   "metadata": {},
   "outputs": [],
   "source": [
    "df = pd.read_parquet('./Tidy/SIAP.parquet')"
   ]
  },
  {
   "cell_type": "code",
   "execution_count": 131,
   "metadata": {},
   "outputs": [
    {
     "data": {
      "text/plain": [
       "['Entidad',\n",
       " 'Municipio',\n",
       " 'Superficie Sembrada',\n",
       " 'Superficie Cosechada',\n",
       " 'Superficie Siniestrada',\n",
       " 'Produccion',\n",
       " 'Rendimiento',\n",
       " 'Anio',\n",
       " 'Mes',\n",
       " 'Cultivo']"
      ]
     },
     "execution_count": 131,
     "metadata": {},
     "output_type": "execute_result"
    }
   ],
   "source": [
    "df.columns.to_list()"
   ]
  },
  {
   "cell_type": "code",
   "execution_count": 132,
   "metadata": {},
   "outputs": [
    {
     "data": {
      "text/plain": [
       "(992213, 10)"
      ]
     },
     "execution_count": 132,
     "metadata": {},
     "output_type": "execute_result"
    }
   ],
   "source": [
    "df.shape"
   ]
  },
  {
   "cell_type": "code",
   "execution_count": 133,
   "metadata": {},
   "outputs": [
    {
     "data": {
      "text/html": [
       "<div>\n",
       "<style scoped>\n",
       "    .dataframe tbody tr th:only-of-type {\n",
       "        vertical-align: middle;\n",
       "    }\n",
       "\n",
       "    .dataframe tbody tr th {\n",
       "        vertical-align: top;\n",
       "    }\n",
       "\n",
       "    .dataframe thead th {\n",
       "        text-align: right;\n",
       "    }\n",
       "</style>\n",
       "<table border=\"1\" class=\"dataframe\">\n",
       "  <thead>\n",
       "    <tr style=\"text-align: right;\">\n",
       "      <th></th>\n",
       "      <th>Entidad</th>\n",
       "      <th>Municipio</th>\n",
       "      <th>Superficie Sembrada</th>\n",
       "      <th>Superficie Cosechada</th>\n",
       "      <th>Superficie Siniestrada</th>\n",
       "      <th>Produccion</th>\n",
       "      <th>Rendimiento</th>\n",
       "      <th>Anio</th>\n",
       "      <th>Mes</th>\n",
       "      <th>Cultivo</th>\n",
       "    </tr>\n",
       "  </thead>\n",
       "  <tbody>\n",
       "    <tr>\n",
       "      <th>949223</th>\n",
       "      <td>Zacatecas</td>\n",
       "      <td>Pinos</td>\n",
       "      <td>10.50</td>\n",
       "      <td>8.00</td>\n",
       "      <td>2.5</td>\n",
       "      <td>169.60</td>\n",
       "      <td>21.20</td>\n",
       "      <td>2018</td>\n",
       "      <td>Septiembre</td>\n",
       "      <td>Cebolla</td>\n",
       "    </tr>\n",
       "    <tr>\n",
       "      <th>512503</th>\n",
       "      <td>Yucatán</td>\n",
       "      <td>Temozón</td>\n",
       "      <td>1.50</td>\n",
       "      <td>1.50</td>\n",
       "      <td>0.0</td>\n",
       "      <td>28.00</td>\n",
       "      <td>18.67</td>\n",
       "      <td>2020</td>\n",
       "      <td>Marzo</td>\n",
       "      <td>Chile verde</td>\n",
       "    </tr>\n",
       "    <tr>\n",
       "      <th>659064</th>\n",
       "      <td>Veracruz</td>\n",
       "      <td>Tlalixcoyan</td>\n",
       "      <td>416.00</td>\n",
       "      <td>200.00</td>\n",
       "      <td>0.0</td>\n",
       "      <td>1,300.00</td>\n",
       "      <td>6.50</td>\n",
       "      <td>2019</td>\n",
       "      <td>Enero</td>\n",
       "      <td>Limón</td>\n",
       "    </tr>\n",
       "    <tr>\n",
       "      <th>672054</th>\n",
       "      <td>Puebla</td>\n",
       "      <td>Atzitzihuacán</td>\n",
       "      <td>20.00</td>\n",
       "      <td>10.00</td>\n",
       "      <td>0.0</td>\n",
       "      <td>41.00</td>\n",
       "      <td>4.10</td>\n",
       "      <td>2019</td>\n",
       "      <td>Febrero</td>\n",
       "      <td>Maíz grano</td>\n",
       "    </tr>\n",
       "    <tr>\n",
       "      <th>130789</th>\n",
       "      <td>Coahuila</td>\n",
       "      <td>Lamadrid</td>\n",
       "      <td>55.00</td>\n",
       "      <td>0.00</td>\n",
       "      <td>0.0</td>\n",
       "      <td>0.00</td>\n",
       "      <td>0</td>\n",
       "      <td>2022</td>\n",
       "      <td>Enero</td>\n",
       "      <td>Avena forrajera en verde</td>\n",
       "    </tr>\n",
       "  </tbody>\n",
       "</table>\n",
       "</div>"
      ],
      "text/plain": [
       "          Entidad      Municipio Superficie Sembrada Superficie Cosechada  \\\n",
       "949223  Zacatecas          Pinos               10.50                 8.00   \n",
       "512503    Yucatán        Temozón                1.50                 1.50   \n",
       "659064   Veracruz    Tlalixcoyan              416.00               200.00   \n",
       "672054     Puebla  Atzitzihuacán               20.00                10.00   \n",
       "130789   Coahuila       Lamadrid               55.00                 0.00   \n",
       "\n",
       "        Superficie Siniestrada Produccion Rendimiento  Anio         Mes  \\\n",
       "949223                     2.5     169.60       21.20  2018  Septiembre   \n",
       "512503                     0.0      28.00       18.67  2020       Marzo   \n",
       "659064                     0.0   1,300.00        6.50  2019       Enero   \n",
       "672054                     0.0      41.00        4.10  2019     Febrero   \n",
       "130789                     0.0       0.00           0  2022       Enero   \n",
       "\n",
       "                         Cultivo  \n",
       "949223                   Cebolla  \n",
       "512503               Chile verde  \n",
       "659064                     Limón  \n",
       "672054                Maíz grano  \n",
       "130789  Avena forrajera en verde  "
      ]
     },
     "execution_count": 133,
     "metadata": {},
     "output_type": "execute_result"
    }
   ],
   "source": [
    "df.sample(n=5)"
   ]
  },
  {
   "cell_type": "markdown",
   "metadata": {},
   "source": [
    "## SNIIM"
   ]
  },
  {
   "cell_type": "markdown",
   "metadata": {},
   "source": [
    "### Unión de los datos"
   ]
  },
  {
   "cell_type": "code",
   "execution_count": 114,
   "metadata": {},
   "outputs": [
    {
     "name": "stdout",
     "output_type": "stream",
     "text": [
      "El archivo sniim_product_aguacate_fuerte_primera.csv está vacío y se omitirá.\n",
      "El archivo sniim_product_aguacate_hass_flor_vieja_primera.csv está vacío y se omitirá.\n"
     ]
    }
   ],
   "source": [
    "# Crea una lista para almacenar los DataFrames de los archivos CSV\n",
    "dataframes = []\n",
    "\n",
    "# Itera a través de los archivos en la ruta\n",
    "for archivo in os.listdir(\"./raw/SNIIM/\"):\n",
    "    if archivo.endswith(\".csv\"):\n",
    "        # Lee cada archivo CSV y lo convierte en un DataFrame\n",
    "        archivo_csv = os.path.join('./raw/SNIIM/' + str(archivo))\n",
    "        if os.path.getsize(archivo_csv) > 0:\n",
    "            try:\n",
    "                df_sniim = pd.read_csv(archivo_csv)\n",
    "                dataframes.append(df_sniim)\n",
    "            except pd.errors.EmptyDataError:\n",
    "                print(f\"El archivo {archivo} está vacío y se omitirá.\")"
   ]
  },
  {
   "cell_type": "code",
   "execution_count": 115,
   "metadata": {},
   "outputs": [],
   "source": [
    "# Combina todos los DataFrames en uno solo\n",
    "df_completo = pd.concat(dataframes, ignore_index=True)"
   ]
  },
  {
   "cell_type": "code",
   "execution_count": 116,
   "metadata": {},
   "outputs": [],
   "source": [
    "# Renombrar las columnas \n",
    "nuevos_nombres = {\n",
    "    \"fecha\": \"Fecha\",\n",
    "    \"presentacion\": \"Presentacion\",\n",
    "    \"origen\": \"Origen\",\n",
    "    \"destino\": \"Destino\",\n",
    "    \"precio_min\": \"Precio_min\",\n",
    "    \"precio_max\": \"Precio_max\",\n",
    "    \"obs\": \"Observacion\",\n",
    "    \"name\":\"Cultivo\"\n",
    "}\n",
    "\n",
    "# Aplicar el renombramiento al df_completo\n",
    "df_completo = df_completo.rename(columns=nuevos_nombres)\n",
    "\n"
   ]
  },
  {
   "cell_type": "code",
   "execution_count": 173,
   "metadata": {},
   "outputs": [
    {
     "data": {
      "text/html": [
       "<div>\n",
       "<style scoped>\n",
       "    .dataframe tbody tr th:only-of-type {\n",
       "        vertical-align: middle;\n",
       "    }\n",
       "\n",
       "    .dataframe tbody tr th {\n",
       "        vertical-align: top;\n",
       "    }\n",
       "\n",
       "    .dataframe thead th {\n",
       "        text-align: right;\n",
       "    }\n",
       "</style>\n",
       "<table border=\"1\" class=\"dataframe\">\n",
       "  <thead>\n",
       "    <tr style=\"text-align: right;\">\n",
       "      <th></th>\n",
       "      <th>Fecha</th>\n",
       "      <th>Presentacion</th>\n",
       "      <th>Origen</th>\n",
       "      <th>Destino</th>\n",
       "      <th>Precio_min</th>\n",
       "      <th>Precio_max</th>\n",
       "      <th>precio_frec</th>\n",
       "      <th>Observacion</th>\n",
       "      <th>Cultivo</th>\n",
       "    </tr>\n",
       "  </thead>\n",
       "  <tbody>\n",
       "    <tr>\n",
       "      <th>123232</th>\n",
       "      <td>11/11/2020</td>\n",
       "      <td>Manojo</td>\n",
       "      <td>Baja California</td>\n",
       "      <td>Baja California Sur: Unión de Comerciantes de ...</td>\n",
       "      <td>3.0</td>\n",
       "      <td>7.00</td>\n",
       "      <td>7.00</td>\n",
       "      <td>nan</td>\n",
       "      <td>cilantro_primera</td>\n",
       "    </tr>\n",
       "    <tr>\n",
       "      <th>92619</th>\n",
       "      <td>19/11/2019</td>\n",
       "      <td>Rollo de 20 pzas.</td>\n",
       "      <td>Jalisco</td>\n",
       "      <td>Nuevo León: Mercado de Abasto \"Estrella\" de Sa...</td>\n",
       "      <td>6.5</td>\n",
       "      <td>7.50</td>\n",
       "      <td>6.50</td>\n",
       "      <td>nan</td>\n",
       "      <td>caña_primera</td>\n",
       "    </tr>\n",
       "    <tr>\n",
       "      <th>136301</th>\n",
       "      <td>11/05/2018</td>\n",
       "      <td>Caja de 10 kg.</td>\n",
       "      <td>Importación</td>\n",
       "      <td>Durango: Central de Abasto \"Francisco Villa\"</td>\n",
       "      <td>62.0</td>\n",
       "      <td>62.00</td>\n",
       "      <td>62.00</td>\n",
       "      <td>Origen U.S.A.</td>\n",
       "      <td>ciruela pasa_primera</td>\n",
       "    </tr>\n",
       "    <tr>\n",
       "      <th>124224</th>\n",
       "      <td>24/05/2021</td>\n",
       "      <td>Manojo</td>\n",
       "      <td>Baja California</td>\n",
       "      <td>Baja California Sur: Unión de Comerciantes de ...</td>\n",
       "      <td>3.0</td>\n",
       "      <td>7.00</td>\n",
       "      <td>5.00</td>\n",
       "      <td>nan</td>\n",
       "      <td>cilantro_primera</td>\n",
       "    </tr>\n",
       "    <tr>\n",
       "      <th>15799</th>\n",
       "      <td>09/11/2018</td>\n",
       "      <td>Caja de 20 kg.</td>\n",
       "      <td>Aguascalientes</td>\n",
       "      <td>Nayarit: Mercado de abasto 'Adolfo López Mateo...</td>\n",
       "      <td>32.0</td>\n",
       "      <td>33.25</td>\n",
       "      <td>32.25</td>\n",
       "      <td>nan</td>\n",
       "      <td>aguacate pagua_primera</td>\n",
       "    </tr>\n",
       "  </tbody>\n",
       "</table>\n",
       "</div>"
      ],
      "text/plain": [
       "             Fecha       Presentacion           Origen  \\\n",
       "123232  11/11/2020             Manojo  Baja California   \n",
       "92619   19/11/2019  Rollo de 20 pzas.          Jalisco   \n",
       "136301  11/05/2018     Caja de 10 kg.      Importación   \n",
       "124224  24/05/2021             Manojo  Baja California   \n",
       "15799   09/11/2018     Caja de 20 kg.   Aguascalientes   \n",
       "\n",
       "                                                  Destino  Precio_min  \\\n",
       "123232  Baja California Sur: Unión de Comerciantes de ...         3.0   \n",
       "92619   Nuevo León: Mercado de Abasto \"Estrella\" de Sa...         6.5   \n",
       "136301       Durango: Central de Abasto \"Francisco Villa\"        62.0   \n",
       "124224  Baja California Sur: Unión de Comerciantes de ...         3.0   \n",
       "15799   Nayarit: Mercado de abasto 'Adolfo López Mateo...        32.0   \n",
       "\n",
       "        Precio_max  precio_frec    Observacion                 Cultivo  \n",
       "123232        7.00         7.00            nan        cilantro_primera  \n",
       "92619         7.50         6.50            nan            caña_primera  \n",
       "136301       62.00        62.00  Origen U.S.A.    ciruela pasa_primera  \n",
       "124224        7.00         5.00            nan        cilantro_primera  \n",
       "15799        33.25        32.25            nan  aguacate pagua_primera  "
      ]
     },
     "execution_count": 173,
     "metadata": {},
     "output_type": "execute_result"
    }
   ],
   "source": [
    "df_completo.sample(n=5)"
   ]
  },
  {
   "cell_type": "code",
   "execution_count": 136,
   "metadata": {},
   "outputs": [],
   "source": [
    "if not os.path.exists('./Tidy/SNIIM.parquet'):\n",
    "    df_completo['Observacion'] = df_completo['Observacion'].astype(str)\n",
    "    df_completo.to_parquet('./Tidy/SNIIM.parquet', index=False)"
   ]
  },
  {
   "cell_type": "code",
   "execution_count": 175,
   "metadata": {},
   "outputs": [
    {
     "data": {
      "text/plain": [
       "['Fecha',\n",
       " 'Presentacion',\n",
       " 'Origen',\n",
       " 'Destino',\n",
       " 'Precio_min',\n",
       " 'Precio_max',\n",
       " 'precio_frec',\n",
       " 'Observacion',\n",
       " 'Cultivo']"
      ]
     },
     "execution_count": 175,
     "metadata": {},
     "output_type": "execute_result"
    }
   ],
   "source": [
    "df_completo.columns.to_list()"
   ]
  },
  {
   "cell_type": "code",
   "execution_count": 177,
   "metadata": {},
   "outputs": [
    {
     "data": {
      "text/plain": [
       "(141624, 9)"
      ]
     },
     "execution_count": 177,
     "metadata": {},
     "output_type": "execute_result"
    }
   ],
   "source": [
    "df_completo.shape"
   ]
  }
 ],
 "metadata": {
  "kernelspec": {
   "display_name": "agricultura",
   "language": "python",
   "name": "python3"
  },
  "language_info": {
   "codemirror_mode": {
    "name": "ipython",
    "version": 3
   },
   "file_extension": ".py",
   "mimetype": "text/x-python",
   "name": "python",
   "nbconvert_exporter": "python",
   "pygments_lexer": "ipython3",
   "version": "3.11.5"
  },
  "orig_nbformat": 4
 },
 "nbformat": 4,
 "nbformat_minor": 2
}
