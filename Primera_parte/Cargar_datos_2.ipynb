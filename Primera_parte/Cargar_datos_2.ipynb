{
  "cells": [
    {
      "cell_type": "markdown",
      "metadata": {
        "id": "mR20GV2CAuhH"
      },
      "source": [
        "# Descarga de datos"
      ]
    },
    {
      "cell_type": "markdown",
      "metadata": {
        "id": "g0IaNgvPAuhY"
      },
      "source": [
        "## URL de las distintas fuentes de datos"
      ]
    },
    {
      "cell_type": "markdown",
      "metadata": {
        "id": "3Un9KAmY9GdG"
      },
      "source": [
        "**PRODUCCIÓN ANUAL AGRÍCOLA**\n",
        "- https://nube.siap.gob.mx/cierreagricola/\n",
        "\n",
        "**PRODUCCIÓN MENSUAL AGRÍCOLA**\n",
        "- https://nube.siap.gob.mx/avance_agricola/\n",
        "- http://infosiap.siap.gob.mx:8080/agricola_siap_gobmx/ResumenProducto.do\n",
        "\n",
        "**INTENCION DE SIEMBRA**\n",
        "- https://nube.siap.gob.mx/agroprograma/\n",
        "\n",
        "**SISTEMA DE INFORMACIÓN AGROALIMENTARIA DE CONSULTA**\n",
        "- http://infosiap.siap.gob.mx/gobmx/datosAbiertos_a.php\n",
        "\n",
        "**ESTADÍSTICA DE USO TECNOLÓGICO Y DE SERVICIOS EN LA SUPERFICIE AGRÍCOLA**\n",
        "- Fertilizada: https://nube.siap.gob.mx/index.php/s/kTLGLipCBEBiEFM/download\n",
        "- Semilla mejorada y semilla criolla: https://nube.siap.gob.mx/index.php/s/OjKcZZL8QClaK6U/download\n",
        "- Mecanizada: https://nube.siap.gob.mx/index.php/s/P7yK8NWmppStv7i/download\n",
        "- Riego: https://nube.siap.gob.mx/index.php/s/cz6nETNW4b0krzD/download\n",
        "- Sanidad: https://nube.siap.gob.mx/index.php/s/0l0Vw6VUf8fQ0dI/download\n",
        "- Asistencia técnica: https://nube.siap.gob.mx/index.php/s/EHaUuYSEnHqHLqA/download\n",
        "\n",
        "**INFORMACIÓN AGRÍCOLA DE GÉNERO**\n",
        "- 2015 - 2017: https://www.gob.mx/cms/uploads/attachment/file/399835/Estadistica_de_G_nero_2017.pdf\n",
        "- 2016 - 2018: https://www.gob.mx/cms/uploads/attachment/file/515428/Participaci_n_de_mujeres_en_valor_2016_17_18.pdf\n",
        "- 2017 - 2019: https://www.gob.mx/cms/uploads/attachment/file/630415/Estadistica_de_Genero_2019.pdf\n",
        "\n",
        "**MONOGRAFÍAS DE CULTIVOS**\n",
        "- https://www.gob.mx/siap/documentos/monografias\n",
        "\n"
      ]
    },
    {
      "cell_type": "markdown",
      "metadata": {
        "id": "XvBxOo-mAuhd"
      },
      "source": [
        "## Librerias"
      ]
    },
    {
      "cell_type": "code",
      "execution_count": null,
      "metadata": {
        "id": "ydvc093lAuhf"
      },
      "outputs": [],
      "source": [
        "# !pip install lxml\n",
        "# !pip install pandas\n",
        "# !pip install beautifulsoup4\n",
        "# !pip install pyarrow"
      ]
    },
    {
      "cell_type": "code",
      "execution_count": 51,
      "metadata": {
        "id": "p-qzuhJfAuhi"
      },
      "outputs": [],
      "source": [
        "import os\n",
        "import pandas as pd\n",
        "from bs4 import BeautifulSoup\n",
        "import warnings\n",
        "import requests\n"
      ]
    },
    {
      "cell_type": "markdown",
      "metadata": {
        "id": "NGpXj6vt6YyF"
      },
      "source": [
        "## Catalogos para API: JSON de Victor\n",
        "\n",
        "Nota: sí vienen los 64 cultivos que aparecen en la página"
      ]
    },
    {
      "cell_type": "code",
      "execution_count": 52,
      "metadata": {
        "id": "nKpjsfYoAuhl"
      },
      "outputs": [],
      "source": [
        "if not os.path.exists('catalogos_api'):\n",
        "    os.mkdir(\"catalogos_api\")\n",
        "\n",
        "df = pd.read_json('Victor-dict.json',orient='index')\n",
        "\n",
        "tag = [\"municipio\",\"anioagric\",\"cicloProd\",\"modalidad\",\"entidad\",\"cultivo\",\"distrito\",\"mesagric\"]\n",
        "name_csv = ['Municipio','Anio_Agricola','Ciclo_Prod','Modalidad','Entidad','Cultivo','Distrito',\"Mes_Agricola\"]\n",
        "\n",
        "for i in range(8):\n",
        "    # Toma los datos pertenecientes al tag\n",
        "    df_aux2 = df.loc[df.index.str.startswith(tag[i])]\n",
        "    df_aux = df_aux2.copy()\n",
        "    # Elimina la str del tag+_ de la columna index\n",
        "    df_aux.index = df_aux.index.str.replace(tag[i]+'_', \"\")\n",
        "    # Convierte el indice en columna\n",
        "    df_aux.reset_index(inplace=True)\n",
        "    # Cambia los nombres de las columnas\n",
        "    df_aux.rename(columns={0: \"ID\",\"index\":\"Name\"}, inplace=True)\n",
        "    # Crea el path donde se guardara\n",
        "    ruta_completa = os.path.join(\"catalogos_api\",name_csv[i])\n",
        "    # Guardar el DataFrame en el archivo CSV en la carpeta \"catalogos_api\"\n",
        "    df_aux.to_csv(ruta_completa + '.csv', index=False)\n",
        "\n",
        "#Elimina los df\n",
        "del df_aux, df_aux2"
      ]
    },
    {
      "cell_type": "markdown",
      "metadata": {
        "id": "tiFFWRv7Auhw"
      },
      "source": [
        "## Descarga de Datos Raw"
      ]
    },
    {
      "cell_type": "code",
      "execution_count": 55,
      "metadata": {
        "id": "xRsE3clfAuhx"
      },
      "outputs": [],
      "source": [
        "# Creacion del folder raw\n",
        "if not os.path.exists('raw'):\n",
        "    os.mkdir(\"raw\")"
      ]
    },
    {
      "cell_type": "code",
      "execution_count": 56,
      "metadata": {
        "id": "A9ie4VAdAuhx"
      },
      "outputs": [],
      "source": [
        "# Comando para ignorar warnings (salen en cada request)\n",
        "warnings.filterwarnings('ignore')"
      ]
    },
    {
      "cell_type": "code",
      "execution_count": 142,
      "metadata": {
        "id": "yequPVhdAuhy"
      },
      "outputs": [],
      "source": [
        "anio_arr = pd.read_csv('./catalogos_api/Anio_Agricola.csv').ID.to_list()\n",
        "cultivo_arr = pd.read_csv('./catalogos_api/Cultivo.csv').ID.to_list()\n",
        "mes_arr = pd.read_csv('./catalogos_api/Mes_Agricola.csv').ID.to_list()"
      ]
    },
    {
      "cell_type": "code",
      "execution_count": 143,
      "metadata": {
        "id": "aA-d0oo-Auhy"
      },
      "outputs": [],
      "source": [
        "cultivo_arr.remove(0) # 0: Todos"
      ]
    },
    {
      "cell_type": "code",
      "execution_count": 145,
      "metadata": {},
      "outputs": [],
      "source": [
        "for i in anio_arr:\n",
        "    if not os.path.exists('raw/'+str(i)):\n",
        "        os.mkdir(\"raw/\"+str(i))"
      ]
    },
    {
      "cell_type": "code",
      "execution_count": 146,
      "metadata": {
        "id": "MDw4TsGQAuh0"
      },
      "outputs": [],
      "source": [
        "def API_SIAP(anio,mes,cultivo):\n",
        "  # Endpoint\n",
        "  url = \"https://nube.siap.gob.mx/avance_agricola/\"\n",
        "\n",
        "  payload = {'xajax': 'reporte', # Para obtener la tabla\n",
        "  'xajaxr': '1696449941927', # Timestamp UNIX\n",
        "  'xajaxargs[]': [\n",
        "      '1', # 1: Desglose por estados, 2: Cultivo total\n",
        "      str(anio), # Anio\n",
        "      '5', # ID Ciclo\n",
        "      '3', # ID Modalidad\n",
        "      '0', # ID Estado (0: Nacional)\n",
        "      '--',\n",
        "      '--',\n",
        "      str(cultivo), # ID Cultivo\n",
        "      '200201',\n",
        "      '0',\n",
        "      '1', # 1: Por municipio\n",
        "      'undefined',\n",
        "      'undefined',\n",
        "      'undefined',\n",
        "      str(mes) # Valor del mes: va de 1 a 8, con 1 siendo Enero y 8 Agosto\n",
        "      ]\n",
        "  }\n",
        "\n",
        "  headers = {\n",
        "    'Cookie': 'PHPSESSID=45ri2k73cbp2iptcrufu88p360'\n",
        "  }\n",
        "\n",
        "  # Hacemos el request\n",
        "  response = requests.request(\"POST\", url, headers=headers, data=payload, verify=False)\n",
        "  response.encoding='ISO-8859-1'\n",
        "\n",
        "  return response.text"
      ]
    },
    {
      "cell_type": "code",
      "execution_count": 149,
      "metadata": {
        "id": "8B-UPvA2FHfa"
      },
      "outputs": [],
      "source": [
        "for anio in anio_arr:\n",
        "    for mes in mes_arr:\n",
        "        columnas = [\"Entidad\", \"Municipio\", \"Superficie Sembrada\", \"Superficie Cosechada\", \"Superficie Siniestrada\", \"Produccion\", \"Rendimiento\",\"Anio\", \"Mes\", \"Cultivo\"]\n",
        "        df_raw = pd.DataFrame(columns=columnas)\n",
        "        for cultivo in cultivo_arr:\n",
        "            xml_data = API_SIAP(anio,mes,cultivo)\n",
        "            # Parseamos el XML con BeautifulSoup usando el analizador XML (lxml)\n",
        "            soup = BeautifulSoup(xml_data, 'lxml')\n",
        "\n",
        "            # Encontramos la tabla por su ID\n",
        "            tabla = soup.find('table', id='Resultados-reporte')\n",
        "\n",
        "            if tabla:\n",
        "                # Inicializamos listas para almacenar los datos\n",
        "                datos = []\n",
        "\n",
        "                # Iteramos a través de las filas de la tabla\n",
        "                for fila in tabla.find_all('tr')[1:]:  # Ignoramos la primera fila de encabezados\n",
        "                    columnas = fila.find_all('td')\n",
        "                    if len(columnas) == 0:  # Ignoramos las filas vacías\n",
        "                        continue\n",
        "\n",
        "                    # Extraemos los datos relevantes de cada columna\n",
        "                    #posicion = columnas[0].get_text()\n",
        "                    entidad = columnas[1].get_text()\n",
        "                    municipio = columnas[2].get_text()\n",
        "                    superficie_sembrada = columnas[3].get_text()\n",
        "                    superficie_cosechada = columnas[4].get_text()\n",
        "                    superficie_siniestrada = columnas[5].get_text()\n",
        "                    produccion = columnas[6].get_text()\n",
        "                    rendimiento = columnas[7].get_text()\n",
        "\n",
        "                    # Agregamos los datos a la lista\n",
        "                    datos = [\n",
        "                        entidad, municipio,\n",
        "                        superficie_sembrada, superficie_cosechada,\n",
        "                        superficie_siniestrada, produccion, rendimiento,\n",
        "                        anio, mes, cultivo\n",
        "                    ]\n",
        "                    df_raw.loc[len(df_raw)] = datos\n",
        "        name_csv = 'Avance_Agricola_'+str(anio)+'_'+str(mes)\n",
        "        df_raw.to_csv('./raw/'+str(anio)+'/'+name_csv+'.csv', index=False)"
      ]
    }
  ],
  "metadata": {
    "colab": {
      "provenance": []
    },
    "kernelspec": {
      "display_name": "Python 3",
      "name": "python3"
    },
    "language_info": {
      "codemirror_mode": {
        "name": "ipython",
        "version": 3
      },
      "file_extension": ".py",
      "mimetype": "text/x-python",
      "name": "python",
      "nbconvert_exporter": "python",
      "pygments_lexer": "ipython3",
      "version": "3.11.5"
    }
  },
  "nbformat": 4,
  "nbformat_minor": 0
}
